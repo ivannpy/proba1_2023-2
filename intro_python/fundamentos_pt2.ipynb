{
 "cells": [
  {
   "cell_type": "markdown",
   "id": "1ef71563",
   "metadata": {},
   "source": [
    "<br>\n",
    "<br>\n",
    "<br>\n",
    "<br>\n",
    "<br>\n",
    "<h1 style='text-align: center; \n",
    "          font-family:courier;\n",
    "          font-size:3em;'> \n",
    "    Introducción a la programación en Python\n",
    "</h1>\n",
    "<p style='text-align:center; \n",
    "          font-family:courier;\n",
    "          font-size:2em;'>\n",
    "    Fundamentos parte 2\n",
    "</p>\n",
    "\n",
    "<br>\n",
    "<br>\n",
    "<p style='text-align:left; \n",
    "          font-family:courier;\n",
    "          font-size:1.5em;'>\n",
    "    Probabilidad 1<br>\n",
    "    Por: Jorge Iván Reyes Hernández<br>\n",
    "    Grupo: 9019\n",
    "</p>\n",
    "<br>\n",
    "<br>\n",
    "<br>\n",
    "<br>"
   ]
  },
  {
   "cell_type": "markdown",
   "id": "59d1ff80",
   "metadata": {},
   "source": [
    "# Control de flujo\n",
    "\n",
    "## Operadores\n",
    "\n",
    "###### Operadores lógicos: and or, not"
   ]
  },
  {
   "cell_type": "code",
   "execution_count": 1,
   "id": "ff1326c9",
   "metadata": {},
   "outputs": [
    {
     "name": "stdout",
     "output_type": "stream",
     "text": [
      "True\n"
     ]
    }
   ],
   "source": [
    "# and\n",
    "\n",
    "print((3 < 4) and (5 > 4))"
   ]
  },
  {
   "cell_type": "code",
   "execution_count": 4,
   "id": "189665db",
   "metadata": {},
   "outputs": [
    {
     "name": "stdout",
     "output_type": "stream",
     "text": [
      "False\n"
     ]
    }
   ],
   "source": [
    "# or\n",
    "\n",
    "print((3 < 1) or (1 > 4))"
   ]
  },
  {
   "cell_type": "code",
   "execution_count": 6,
   "id": "ec788859",
   "metadata": {},
   "outputs": [
    {
     "name": "stdout",
     "output_type": "stream",
     "text": [
      "True\n"
     ]
    }
   ],
   "source": [
    "# not\n",
    "\n",
    "print(not (0 > 1))"
   ]
  },
  {
   "cell_type": "markdown",
   "id": "2a1a6c71",
   "metadata": {},
   "source": [
    "###### Operadores de igualdad: is, is not, ==, !="
   ]
  },
  {
   "cell_type": "code",
   "execution_count": 8,
   "id": "1b288690",
   "metadata": {},
   "outputs": [
    {
     "name": "stdout",
     "output_type": "stream",
     "text": [
      "True\n"
     ]
    }
   ],
   "source": [
    "# is: igualdad de identidad\n",
    "\n",
    "a = 123\n",
    "b = a\n",
    "\n",
    "print(b is a)"
   ]
  },
  {
   "cell_type": "code",
   "execution_count": 10,
   "id": "f05cae53",
   "metadata": {},
   "outputs": [
    {
     "data": {
      "text/plain": [
       "(140402020159536, 140402020159536)"
      ]
     },
     "execution_count": 10,
     "metadata": {},
     "output_type": "execute_result"
    }
   ],
   "source": [
    "id(a), id(b)"
   ]
  },
  {
   "cell_type": "code",
   "execution_count": 13,
   "id": "c44d2cbf",
   "metadata": {},
   "outputs": [
    {
     "name": "stdout",
     "output_type": "stream",
     "text": [
      "False\n"
     ]
    }
   ],
   "source": [
    "# is: no igualdad de identidad\n",
    "\n",
    "print(b is not a)"
   ]
  },
  {
   "cell_type": "code",
   "execution_count": 18,
   "id": "d27e9f23",
   "metadata": {},
   "outputs": [
    {
     "name": "stdout",
     "output_type": "stream",
     "text": [
      "True\n"
     ]
    }
   ],
   "source": [
    "# ==: equivalencia\n",
    "\n",
    "a = \"hola mundo\"\n",
    "b = \"hola\" + \" mundo\"\n",
    "\n",
    "print(a == b)"
   ]
  },
  {
   "cell_type": "code",
   "execution_count": 20,
   "id": "510af7e7",
   "metadata": {},
   "outputs": [
    {
     "data": {
      "text/plain": [
       "False"
      ]
     },
     "execution_count": 20,
     "metadata": {},
     "output_type": "execute_result"
    }
   ],
   "source": [
    "a is b"
   ]
  },
  {
   "cell_type": "code",
   "execution_count": 19,
   "id": "ddea3ec9",
   "metadata": {},
   "outputs": [
    {
     "data": {
      "text/plain": [
       "(140401971559344, 140401970155376)"
      ]
     },
     "execution_count": 19,
     "metadata": {},
     "output_type": "execute_result"
    }
   ],
   "source": [
    "id(a), id(b)"
   ]
  },
  {
   "cell_type": "markdown",
   "id": "4df598a0",
   "metadata": {},
   "source": [
    "Podemos ver que aunque dos objetos sean equivalentes (en el ejemplo, la misma cadena de texto), pueden ser objetos distintos (distinta identidad/dirección en memoria)."
   ]
  },
  {
   "cell_type": "code",
   "execution_count": 22,
   "id": "d6f8a95c",
   "metadata": {},
   "outputs": [
    {
     "name": "stdout",
     "output_type": "stream",
     "text": [
      "False\n"
     ]
    }
   ],
   "source": [
    "# =: no equivalencia\n",
    "\n",
    "a = \"hola mundo\"\n",
    "b = \"hola\" + \" mundo\"\n",
    "\n",
    "print(a != b)"
   ]
  },
  {
   "cell_type": "markdown",
   "id": "0d5156f1",
   "metadata": {},
   "source": [
    "###### Operadores de asignación extendida\n",
    "\n",
    "1. val += 1 es equivalente a val = val + 1\n",
    "2. val -= 1 es equivalente a val = val - 1\n",
    "3. val /= 2 es equivalente a val = val / 2\n",
    "4. val *= 2 es equivalente a val = 2 * val"
   ]
  },
  {
   "cell_type": "code",
   "execution_count": 26,
   "id": "2bf9c8af",
   "metadata": {},
   "outputs": [
    {
     "name": "stdout",
     "output_type": "stream",
     "text": [
      "0\n",
      "10\n",
      "5\n",
      "25\n",
      "5.0\n"
     ]
    }
   ],
   "source": [
    "# Ejemplo\n",
    "\n",
    "val = 0\n",
    "print(val)\n",
    "\n",
    "val += 10\n",
    "print(val)\n",
    "\n",
    "val -= 5\n",
    "print(val)\n",
    "\n",
    "val *= 5\n",
    "print(val)\n",
    "\n",
    "val /= 5\n",
    "print(val)"
   ]
  },
  {
   "cell_type": "markdown",
   "id": "83766120",
   "metadata": {},
   "source": [
    "## Condicionales\n",
    "\n",
    "Estructura if.\n",
    "\n",
    "\n",
    "```python\n",
    "if condition1:\n",
    "    do_something1()\n",
    "elif condition2:\n",
    "    do_something2()\n",
    "elif condition3:\n",
    "    do_something3()\n",
    "else:\n",
    "    do_something4()\n",
    "```"
   ]
  },
  {
   "cell_type": "code",
   "execution_count": 27,
   "id": "49212b87",
   "metadata": {},
   "outputs": [
    {
     "name": "stdout",
     "output_type": "stream",
     "text": [
      "Teclea tu edad: 12\n",
      "Menor de edad\n"
     ]
    }
   ],
   "source": [
    "# Ejemplo\n",
    "\n",
    "age = int(input(\"Teclea tu edad: \"))\n",
    "\n",
    "if age < 18:\n",
    "    print(\"Menor de edad\")\n",
    "elif 18 <= age < 30:\n",
    "    print(\"Persona joven\")\n",
    "else:\n",
    "    print(\"Persona adulta\")"
   ]
  },
  {
   "cell_type": "markdown",
   "id": "f7c1c761",
   "metadata": {},
   "source": [
    "Expresiones condicionales\n",
    "\n",
    "\n",
    "```python\n",
    "value = val1 if condition else val2\n",
    "```"
   ]
  },
  {
   "cell_type": "code",
   "execution_count": 29,
   "id": "5622cc3e",
   "metadata": {},
   "outputs": [
    {
     "name": "stdout",
     "output_type": "stream",
     "text": [
      "Teclea tu edad: 19\n",
      "Mayor de edad\n"
     ]
    }
   ],
   "source": [
    "# Ejemplo\n",
    "\n",
    "age = int(input(\"Teclea tu edad: \"))\n",
    "\n",
    "clas = \"Menor de edad\" if age < 18 else \"Mayor de edad\"\n",
    "\n",
    "print(clas)"
   ]
  },
  {
   "cell_type": "markdown",
   "id": "999c1857",
   "metadata": {},
   "source": [
    "## Bucles\n",
    "\n",
    "### Bucle while\n",
    "\n",
    "```python\n",
    "while condition:\n",
    "    do_something()]\n",
    "```\n",
    "\n",
    "El código de arriba se puede interpretar como \"Mientras se cumpla la condición, haz algo\".*"
   ]
  },
  {
   "cell_type": "code",
   "execution_count": 32,
   "id": "ac4547f6",
   "metadata": {},
   "outputs": [
    {
     "name": "stdout",
     "output_type": "stream",
     "text": [
      "Teclea tu edad: 17\n",
      "Prohibido el paso a menores de edad.\n",
      "Teclea tu edad: 18\n",
      "Bienvenida, persona mayor de edad!\n"
     ]
    }
   ],
   "source": [
    "# Ejemplo\n",
    "\n",
    "age = int(input(\"Teclea tu edad: \"))\n",
    "\n",
    "while age < 18:\n",
    "    print(\"Prohibido el paso a menores de edad.\")\n",
    "    age = int(input(\"Teclea tu edad: \"))\n",
    "    \n",
    "print(\"Bienvenida, persona mayor de edad!\")"
   ]
  },
  {
   "cell_type": "markdown",
   "id": "b4ad3b03",
   "metadata": {},
   "source": [
    "### Bucle for\n",
    "\n",
    "```python\n",
    "for elem in iterable:\n",
    "    do_something()\n",
    "```\n"
   ]
  },
  {
   "cell_type": "code",
   "execution_count": 36,
   "id": "f2a0a7fb",
   "metadata": {},
   "outputs": [
    {
     "name": "stdout",
     "output_type": "stream",
     "text": [
      "1\n",
      "4\n",
      "27\n",
      "256\n",
      "3125\n",
      "46656\n",
      "823543\n",
      "16777216\n",
      "387420489\n"
     ]
    }
   ],
   "source": [
    "# Ejemplo\n",
    "\n",
    "for i in range(1, 10):\n",
    "    print(i ** i)"
   ]
  },
  {
   "cell_type": "code",
   "execution_count": 37,
   "id": "ee357ef6",
   "metadata": {},
   "outputs": [
    {
     "name": "stdout",
     "output_type": "stream",
     "text": [
      "w\n",
      "o\n",
      "r\n",
      "d\n"
     ]
    }
   ],
   "source": [
    "# Ejemplo\n",
    "\n",
    "for i in \"word\":\n",
    "    print(i)"
   ]
  },
  {
   "cell_type": "code",
   "execution_count": 38,
   "id": "425fc0c4",
   "metadata": {},
   "outputs": [
    {
     "name": "stdout",
     "output_type": "stream",
     "text": [
      "1\n",
      "2\n",
      "h\n",
      "[1]\n",
      "[]\n"
     ]
    }
   ],
   "source": [
    "# Ejemplo\n",
    "\n",
    "for i in [1,2,\"h\", [1], []]:\n",
    "    print(i)"
   ]
  },
  {
   "cell_type": "markdown",
   "id": "bdea5c97",
   "metadata": {},
   "source": [
    "### break y continue\n",
    "\n",
    "Break nos sirve para interrumpir un bucle.\n",
    "\n",
    "Continue nos sirve para saltar una iteración del bucle."
   ]
  },
  {
   "cell_type": "code",
   "execution_count": 46,
   "id": "00d8b6aa",
   "metadata": {},
   "outputs": [
    {
     "name": "stdout",
     "output_type": "stream",
     "text": [
      "Iván#\n",
      "Jorge\n",
      "\n",
      "Jorge\n",
      "Reyes$\n",
      "Hernández\n"
     ]
    }
   ],
   "source": [
    "# Ejemplo\n",
    "\n",
    "text = \"AA12 - Iván#, AA123 - Jorge, AA32 - Reyes$, AA47 - Hernández\"\n",
    "elements = text.split(\",\")\n",
    "\n",
    "\n",
    "for elem in elements:\n",
    "    if \"$\" in elem:\n",
    "        break\n",
    "    name = elem.split(\" - \")[1]\n",
    "    print(name)\n",
    "    \n",
    "print()\n",
    "\n",
    "for elem in elements:\n",
    "    if \"#\" in elem:\n",
    "        continue\n",
    "    name = elem.split(\" - \")[1]\n",
    "    print(name)"
   ]
  },
  {
   "cell_type": "markdown",
   "id": "7b05c252",
   "metadata": {},
   "source": [
    "# Funciones/métodos\n",
    "\n",
    "\n",
    "Las funciones nos ayudan a hacer que el código esté más limpio y ...\n",
    "\n",
    "```python\n",
    "def function_name(val1, val2):\n",
    "    do_something\n",
    "    return \n",
    "    \n",
    "```\n",
    "\n"
   ]
  },
  {
   "cell_type": "code",
   "execution_count": 47,
   "id": "f5857d9f",
   "metadata": {},
   "outputs": [],
   "source": [
    "# Ejemplo\n",
    "\n",
    "def promedio(vals):\n",
    "    val = 0\n",
    "    count = 0\n",
    "    for i in vals:\n",
    "        val += i\n",
    "        count += 1\n",
    "    \n",
    "    mean = val / count\n",
    "    \n",
    "    return mean\n",
    "    "
   ]
  },
  {
   "cell_type": "code",
   "execution_count": 49,
   "id": "f7ddfe78",
   "metadata": {},
   "outputs": [
    {
     "data": {
      "text/plain": [
       "1.5"
      ]
     },
     "execution_count": 49,
     "metadata": {},
     "output_type": "execute_result"
    }
   ],
   "source": [
    "promedio([1, 2])"
   ]
  },
  {
   "cell_type": "code",
   "execution_count": 55,
   "id": "d1acb6d1",
   "metadata": {},
   "outputs": [],
   "source": [
    "class Computer:\n",
    "    def __init__(self, vals):\n",
    "        self.vals = vals\n",
    "        self.mean = None\n",
    "    \n",
    "    def compute_mean(self):\n",
    "        val = 0\n",
    "        count = 0\n",
    "        for i in self.vals:\n",
    "            val += i\n",
    "            count += 1\n",
    "\n",
    "        mean = val / count\n",
    "        self.mean = mean\n"
   ]
  },
  {
   "cell_type": "code",
   "execution_count": 58,
   "id": "d0148e6d",
   "metadata": {},
   "outputs": [
    {
     "data": {
      "text/plain": [
       "49.5"
      ]
     },
     "execution_count": 58,
     "metadata": {},
     "output_type": "execute_result"
    }
   ],
   "source": [
    "computer = Computer(range(1, 99))\n",
    "computer.compute_mean()\n",
    "computer.mean"
   ]
  },
  {
   "cell_type": "markdown",
   "id": "bf6db07a",
   "metadata": {},
   "source": [
    "# Bibliotecas \n",
    "\n",
    "_Abril 2023_\n",
    "\n",
    "---\n",
    "Las bibliotecas están conformadas por código (ya escrito) que podemos usar para que sea más rápido el tiempo de desarrollo de un programa.\n",
    "\n",
    "Las bibliotecas que usaremos (principalmente) son: numpy, matplotlib y scipy.\n",
    "\n",
    "Para usar una biblioteca primero hay que instalarla\n",
    "\n",
    "\n",
    "Desde la línea de comandos.\n",
    "```bash\n",
    "pip install numpy\n",
    "```\n",
    "\n",
    "Desde Jupyter Notebook\n",
    "```python\n",
    "!pip install numpy\n",
    "```"
   ]
  },
  {
   "cell_type": "code",
   "execution_count": 59,
   "id": "72c156ee",
   "metadata": {},
   "outputs": [
    {
     "ename": "ModuleNotFoundError",
     "evalue": "No module named 'numpy'",
     "output_type": "error",
     "traceback": [
      "\u001b[0;31m---------------------------------------------------------------------------\u001b[0m",
      "\u001b[0;31mModuleNotFoundError\u001b[0m                       Traceback (most recent call last)",
      "Cell \u001b[0;32mIn[59], line 1\u001b[0m\n\u001b[0;32m----> 1\u001b[0m \u001b[38;5;28;01mimport\u001b[39;00m \u001b[38;5;21;01mnumpy\u001b[39;00m\n",
      "\u001b[0;31mModuleNotFoundError\u001b[0m: No module named 'numpy'"
     ]
    }
   ],
   "source": [
    "import numpy"
   ]
  },
  {
   "cell_type": "code",
   "execution_count": 60,
   "id": "b65ca0f4",
   "metadata": {},
   "outputs": [
    {
     "name": "stdout",
     "output_type": "stream",
     "text": [
      "Collecting numpy\n",
      "  Using cached numpy-1.24.1-cp310-cp310-manylinux_2_17_x86_64.manylinux2014_x86_64.whl (17.3 MB)\n",
      "Installing collected packages: numpy\n",
      "Successfully installed numpy-1.24.1\n"
     ]
    }
   ],
   "source": [
    "!pip install numpy"
   ]
  },
  {
   "cell_type": "markdown",
   "id": "b31132eb",
   "metadata": {},
   "source": [
    "## Numpy\n",
    "\n",
    "Numpy es una biblioteca para hacer cálculos numéricos (algebra lineal, estadística, etc)."
   ]
  },
  {
   "cell_type": "code",
   "execution_count": 61,
   "id": "eaa506de",
   "metadata": {},
   "outputs": [],
   "source": [
    "import numpy as np"
   ]
  },
  {
   "cell_type": "code",
   "execution_count": 63,
   "id": "f48c3503",
   "metadata": {},
   "outputs": [
    {
     "data": {
      "text/plain": [
       "6.2"
      ]
     },
     "execution_count": 63,
     "metadata": {},
     "output_type": "execute_result"
    }
   ],
   "source": [
    "data = np.array([10, 9, 2, 3, 7])\n",
    "\n",
    "data.mean()"
   ]
  },
  {
   "cell_type": "code",
   "execution_count": 69,
   "id": "c451098a",
   "metadata": {},
   "outputs": [
    {
     "data": {
      "text/plain": [
       "(5, 1)"
      ]
     },
     "execution_count": 69,
     "metadata": {},
     "output_type": "execute_result"
    }
   ],
   "source": [
    "# Vector columna\n",
    "\n",
    "vec_col = np.array([[10], [9], [2], [3], [7]])"
   ]
  },
  {
   "cell_type": "code",
   "execution_count": 72,
   "id": "529372f6",
   "metadata": {},
   "outputs": [
    {
     "data": {
      "text/plain": [
       "(1, 5)"
      ]
     },
     "execution_count": 72,
     "metadata": {},
     "output_type": "execute_result"
    }
   ],
   "source": [
    "# Vector renglón\n",
    "\n",
    "vec_row = np.array([[10, 9, 2, 3, 7]])"
   ]
  },
  {
   "cell_type": "code",
   "execution_count": 76,
   "id": "43dc8a0b",
   "metadata": {},
   "outputs": [
    {
     "data": {
      "text/plain": [
       "array([[10,  9,  2,  3,  7]])"
      ]
     },
     "execution_count": 76,
     "metadata": {},
     "output_type": "execute_result"
    }
   ],
   "source": [
    "vec_col"
   ]
  },
  {
   "cell_type": "code",
   "execution_count": 75,
   "id": "898b2499",
   "metadata": {},
   "outputs": [
    {
     "data": {
      "text/plain": [
       "array([[10,  9,  2,  3,  7]])"
      ]
     },
     "execution_count": 75,
     "metadata": {},
     "output_type": "execute_result"
    }
   ],
   "source": [
    "vec_row"
   ]
  },
  {
   "cell_type": "code",
   "execution_count": 77,
   "id": "1e87c228",
   "metadata": {},
   "outputs": [
    {
     "data": {
      "text/plain": [
       "array([[ True,  True,  True,  True,  True]])"
      ]
     },
     "execution_count": 77,
     "metadata": {},
     "output_type": "execute_result"
    }
   ],
   "source": [
    "vec_col == vec_row"
   ]
  },
  {
   "cell_type": "code",
   "execution_count": 78,
   "id": "d24f4545",
   "metadata": {},
   "outputs": [
    {
     "data": {
      "text/plain": [
       "False"
      ]
     },
     "execution_count": 78,
     "metadata": {},
     "output_type": "execute_result"
    }
   ],
   "source": [
    "vec_col is vec_row"
   ]
  },
  {
   "cell_type": "code",
   "execution_count": 79,
   "id": "f3c6af9a",
   "metadata": {},
   "outputs": [
    {
     "data": {
      "text/plain": [
       "((1, 5), (1, 5))"
      ]
     },
     "execution_count": 79,
     "metadata": {},
     "output_type": "execute_result"
    }
   ],
   "source": [
    "vec_col.shape, vec_row.shape"
   ]
  },
  {
   "cell_type": "code",
   "execution_count": 89,
   "id": "56fa39ce",
   "metadata": {},
   "outputs": [],
   "source": [
    "matrix_1 = np.zeros((2, 2), dtype=int)"
   ]
  },
  {
   "cell_type": "code",
   "execution_count": 90,
   "id": "6d4612e2",
   "metadata": {},
   "outputs": [
    {
     "data": {
      "text/plain": [
       "array([[0, 0],\n",
       "       [0, 0]])"
      ]
     },
     "execution_count": 90,
     "metadata": {},
     "output_type": "execute_result"
    }
   ],
   "source": [
    "matrix_1"
   ]
  },
  {
   "cell_type": "code",
   "execution_count": 94,
   "id": "2f85a0f0",
   "metadata": {},
   "outputs": [
    {
     "data": {
      "text/plain": [
       "array([[2, 2],\n",
       "       [2, 2]])"
      ]
     },
     "execution_count": 94,
     "metadata": {},
     "output_type": "execute_result"
    }
   ],
   "source": [
    "matrix_2 = 2 * np.ones((2, 2), dtype=int)\n",
    "matrix_2"
   ]
  },
  {
   "cell_type": "code",
   "execution_count": 95,
   "id": "0b359f49",
   "metadata": {},
   "outputs": [
    {
     "data": {
      "text/plain": [
       "array([[2, 2],\n",
       "       [2, 2]])"
      ]
     },
     "execution_count": 95,
     "metadata": {},
     "output_type": "execute_result"
    }
   ],
   "source": [
    "matrix_1 + matrix_2"
   ]
  },
  {
   "cell_type": "code",
   "execution_count": 97,
   "id": "fff80080",
   "metadata": {},
   "outputs": [
    {
     "data": {
      "text/plain": [
       "array([[0],\n",
       "       [0]])"
      ]
     },
     "execution_count": 97,
     "metadata": {},
     "output_type": "execute_result"
    }
   ],
   "source": [
    "matrix = np.zeros((2, 1), dtype=int)\n",
    "matrix"
   ]
  },
  {
   "cell_type": "code",
   "execution_count": 100,
   "id": "5d057c82",
   "metadata": {},
   "outputs": [
    {
     "data": {
      "text/plain": [
       "array([[0, 0]])"
      ]
     },
     "execution_count": 100,
     "metadata": {},
     "output_type": "execute_result"
    }
   ],
   "source": [
    "matrix_t = matrix.transpose()\n",
    "matrix_t"
   ]
  },
  {
   "cell_type": "markdown",
   "id": "d32835bf",
   "metadata": {},
   "source": [
    "## Matplotlib\n",
    "\n",
    "Es una biblioteca para hacer gráficos."
   ]
  },
  {
   "cell_type": "code",
   "execution_count": 103,
   "id": "6df9f4f0",
   "metadata": {},
   "outputs": [
    {
     "name": "stdout",
     "output_type": "stream",
     "text": [
      "Collecting matplotlib\n",
      "  Downloading matplotlib-3.6.3-cp310-cp310-manylinux_2_17_x86_64.manylinux2014_x86_64.whl (11.8 MB)\n",
      "\u001b[2K     \u001b[38;2;114;156;31m━━━━━━━━━━━━━━━━━━━━━━━━━━━━━━━━━━━━━━━━\u001b[0m \u001b[32m11.8/11.8 MB\u001b[0m \u001b[31m4.0 MB/s\u001b[0m eta \u001b[36m0:00:00\u001b[0mm eta \u001b[36m0:00:01\u001b[0m[36m0:00:01\u001b[0m\n",
      "\u001b[?25hCollecting kiwisolver>=1.0.1\n",
      "  Using cached kiwisolver-1.4.4-cp310-cp310-manylinux_2_12_x86_64.manylinux2010_x86_64.whl (1.6 MB)\n",
      "Collecting cycler>=0.10\n",
      "  Using cached cycler-0.11.0-py3-none-any.whl (6.4 kB)\n",
      "Requirement already satisfied: python-dateutil>=2.7 in /home/ivanreyes/.py_envs/proba_env/lib/python3.10/site-packages (from matplotlib) (2.8.2)\n",
      "Collecting fonttools>=4.22.0\n",
      "  Using cached fonttools-4.38.0-py3-none-any.whl (965 kB)\n",
      "Requirement already satisfied: packaging>=20.0 in /home/ivanreyes/.py_envs/proba_env/lib/python3.10/site-packages (from matplotlib) (23.0)\n",
      "Collecting contourpy>=1.0.1\n",
      "  Downloading contourpy-1.0.7-cp310-cp310-manylinux_2_17_x86_64.manylinux2014_x86_64.whl (300 kB)\n",
      "\u001b[2K     \u001b[38;2;114;156;31m━━━━━━━━━━━━━━━━━━━━━━━━━━━━━━━━━━━━━━━\u001b[0m \u001b[32m300.3/300.3 kB\u001b[0m \u001b[31m2.5 MB/s\u001b[0m eta \u001b[36m0:00:00\u001b[0mm eta \u001b[36m0:00:01\u001b[0m0:01\u001b[0m\n",
      "\u001b[?25hCollecting pyparsing>=2.2.1\n",
      "  Using cached pyparsing-3.0.9-py3-none-any.whl (98 kB)\n",
      "Collecting pillow>=6.2.0\n",
      "  Downloading Pillow-9.4.0-cp310-cp310-manylinux_2_28_x86_64.whl (3.4 MB)\n",
      "\u001b[2K     \u001b[38;2;114;156;31m━━━━━━━━━━━━━━━━━━━━━━━━━━━━━━━━━━━━━━━━\u001b[0m \u001b[32m3.4/3.4 MB\u001b[0m \u001b[31m2.9 MB/s\u001b[0m eta \u001b[36m0:00:00\u001b[0mm eta \u001b[36m0:00:01\u001b[0m0:01\u001b[0m:01\u001b[0m\n",
      "\u001b[?25hRequirement already satisfied: numpy>=1.19 in /home/ivanreyes/.py_envs/proba_env/lib/python3.10/site-packages (from matplotlib) (1.24.1)\n",
      "Requirement already satisfied: six>=1.5 in /home/ivanreyes/.py_envs/proba_env/lib/python3.10/site-packages (from python-dateutil>=2.7->matplotlib) (1.16.0)\n",
      "Installing collected packages: pyparsing, pillow, kiwisolver, fonttools, cycler, contourpy, matplotlib\n",
      "Successfully installed contourpy-1.0.7 cycler-0.11.0 fonttools-4.38.0 kiwisolver-1.4.4 matplotlib-3.6.3 pillow-9.4.0 pyparsing-3.0.9\n"
     ]
    }
   ],
   "source": [
    "!pip install matplotlib"
   ]
  },
  {
   "cell_type": "code",
   "execution_count": 104,
   "id": "16511444",
   "metadata": {},
   "outputs": [],
   "source": [
    "import matplotlib.pyplot as plt"
   ]
  },
  {
   "cell_type": "code",
   "execution_count": 111,
   "id": "5019e7fd",
   "metadata": {},
   "outputs": [
    {
     "data": {
      "image/png": "[encoded data removed]",
      "text/plain": [
       "<Figure size 640x480 with 1 Axes>"
      ]
     },
     "metadata": {},
     "output_type": "display_data"
    }
   ],
   "source": [
    "dom = np.linspace(-2, 2)\n",
    "f = np.power(dom, 3)\n",
    "\n",
    "plt.grid()\n",
    "plt.xlabel(r\"$x$\")\n",
    "plt.ylabel(r\"$f(x) = x^3$\")\n",
    "plt.plot(dom, f);"
   ]
  },
  {
   "cell_type": "code",
   "execution_count": 113,
   "id": "49888eb4",
   "metadata": {},
   "outputs": [
    {
     "data": {
      "image/png": "[encoded data removed]",
      "text/plain": [
       "<Figure size 640x480 with 1 Axes>"
      ]
     },
     "metadata": {},
     "output_type": "display_data"
    }
   ],
   "source": [
    "data_x = np.array([1,2,1,2,3,4,5])\n",
    "data_y = np.array([4,5,7,8,9,4,5])\n",
    "\n",
    "plt.scatter(data_x, data_y);"
   ]
  },
  {
   "cell_type": "code",
   "execution_count": 120,
   "id": "718d8e12",
   "metadata": {},
   "outputs": [
    {
     "data": {
      "image/png": "[encoded data removed]",
      "text/plain": [
       "<Figure size 640x480 with 1 Axes>"
      ]
     },
     "metadata": {},
     "output_type": "display_data"
    }
   ],
   "source": [
    "data = np.random.normal(size=1000)\n",
    "\n",
    "plt.hist(data, density=True, bins=\"sturges\");"
   ]
  },
  {
   "cell_type": "markdown",
   "id": "1cf5a27c",
   "metadata": {},
   "source": [
    "Para más detalles: https://matplotlib.org/stable/api/_as_gen/matplotlib.pyplot.hist.html"
   ]
  },
  {
   "cell_type": "markdown",
   "id": "30de1fde",
   "metadata": {},
   "source": [
    "## Scipy\n",
    "\n",
    "En scipy.stats hay implementaciones de variables aleatorias."
   ]
  },
  {
   "cell_type": "code",
   "execution_count": 121,
   "id": "9df38ee9",
   "metadata": {},
   "outputs": [
    {
     "name": "stdout",
     "output_type": "stream",
     "text": [
      "Collecting scipy\n",
      "  Using cached scipy-1.10.0-cp310-cp310-manylinux_2_17_x86_64.manylinux2014_x86_64.whl (34.4 MB)\n",
      "Requirement already satisfied: numpy<1.27.0,>=1.19.5 in /home/ivanreyes/.py_envs/proba_env/lib/python3.10/site-packages (from scipy) (1.24.1)\n",
      "Installing collected packages: scipy\n",
      "Successfully installed scipy-1.10.0\n"
     ]
    }
   ],
   "source": [
    "!pip install scipy"
   ]
  },
  {
   "cell_type": "code",
   "execution_count": 122,
   "id": "b60e488b",
   "metadata": {},
   "outputs": [],
   "source": [
    "from scipy import stats"
   ]
  },
  {
   "cell_type": "markdown",
   "id": "2008fe32",
   "metadata": {},
   "source": [
    "###### Variable aleatora Bernoulli"
   ]
  },
  {
   "cell_type": "code",
   "execution_count": 125,
   "id": "e46e1316",
   "metadata": {},
   "outputs": [],
   "source": [
    "bern_va = stats.bernoulli"
   ]
  },
  {
   "cell_type": "code",
   "execution_count": 127,
   "id": "44c8e3cd",
   "metadata": {},
   "outputs": [
    {
     "name": "stdout",
     "output_type": "stream",
     "text": [
      "<scipy.stats._discrete_distns.bernoulli_gen object at 0x7fb18bf2db10>\n"
     ]
    }
   ],
   "source": [
    "print(bern_va)"
   ]
  },
  {
   "cell_type": "markdown",
   "id": "91539934",
   "metadata": {},
   "source": [
    "[scipy.stats.bernoull](https://docs.scipy.org/doc/scipy/reference/generated/scipy.stats.bernoulli.html#scipy.stats.bernoulli)"
   ]
  },
  {
   "cell_type": "code",
   "execution_count": 155,
   "id": "789b85cd",
   "metadata": {},
   "outputs": [
    {
     "data": {
      "image/png": "[encoded data removed]",
      "text/plain": [
       "<Figure size 640x480 with 1 Axes>"
      ]
     },
     "metadata": {},
     "output_type": "display_data"
    }
   ],
   "source": [
    "n = 10\n",
    "data = bern_va.rvs(p=0.5, size=n)\n",
    "ones = data.sum()\n",
    "\n",
    "plt.bar([0, 1], height=(10-ones, ones), width=0.1);"
   ]
  },
  {
   "cell_type": "code",
   "execution_count": 131,
   "id": "1c16cbba",
   "metadata": {},
   "outputs": [],
   "source": [
    "media, varianza = bern_va.stats(p=0.5)"
   ]
  },
  {
   "cell_type": "code",
   "execution_count": 133,
   "id": "03646cb1",
   "metadata": {},
   "outputs": [
    {
     "data": {
      "text/plain": [
       "0.5"
      ]
     },
     "execution_count": 133,
     "metadata": {},
     "output_type": "execute_result"
    }
   ],
   "source": [
    "media"
   ]
  },
  {
   "cell_type": "code",
   "execution_count": 134,
   "id": "168ab6dd",
   "metadata": {},
   "outputs": [
    {
     "data": {
      "text/plain": [
       "0.25"
      ]
     },
     "execution_count": 134,
     "metadata": {},
     "output_type": "execute_result"
    }
   ],
   "source": [
    "varianza"
   ]
  },
  {
   "cell_type": "markdown",
   "id": "cb1c26aa",
   "metadata": {},
   "source": [
    "###### Variable aleatoria normal\n"
   ]
  },
  {
   "cell_type": "code",
   "execution_count": 136,
   "id": "3af3aa80",
   "metadata": {},
   "outputs": [],
   "source": [
    "norm_va = stats.norm"
   ]
  },
  {
   "cell_type": "code",
   "execution_count": 138,
   "id": "b4e1eccc",
   "metadata": {},
   "outputs": [
    {
     "name": "stdout",
     "output_type": "stream",
     "text": [
      "<scipy.stats._continuous_distns.norm_gen object at 0x7fb18c4cb640>\n"
     ]
    }
   ],
   "source": [
    "print(norm_va)"
   ]
  },
  {
   "cell_type": "code",
   "execution_count": 141,
   "id": "36a00102",
   "metadata": {},
   "outputs": [
    {
     "data": {
      "image/png": "[encoded data removed]",
      "text/plain": [
       "<Figure size 640x480 with 1 Axes>"
      ]
     },
     "metadata": {},
     "output_type": "display_data"
    }
   ],
   "source": [
    "data = norm_va.rvs(loc=0, scale=1, size=100000)\n",
    "\n",
    "plt.hist(data);"
   ]
  },
  {
   "cell_type": "code",
   "execution_count": null,
   "id": "3842b327",
   "metadata": {},
   "outputs": [],
   "source": []
  }
 ],
 "metadata": {
  "kernelspec": {
   "display_name": "Python 3 (ipykernel)",
   "language": "python",
   "name": "python3"
  },
  "language_info": {
   "codemirror_mode": {
    "name": "ipython",
    "version": 3
   },
   "file_extension": ".py",
   "mimetype": "text/x-python",
   "name": "python",
   "nbconvert_exporter": "python",
   "pygments_lexer": "ipython3",
   "version": "3.10.6"
  }
 },
 "nbformat": 4,
 "nbformat_minor": 5
}
