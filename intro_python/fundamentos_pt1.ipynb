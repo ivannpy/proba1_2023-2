{
 "cells": [
  {
   "cell_type": "markdown",
   "id": "8067eb76",
   "metadata": {},
   "source": [
    "<br>\n",
    "<br>\n",
    "<br>\n",
    "<br>\n",
    "<br>\n",
    "<h1 style='text-align: center; \n",
    "          font-family:courier;\n",
    "          font-size:3em;'> \n",
    "    Introducción a la programación en Python\n",
    "</h1>\n",
    "<p style='text-align:center; \n",
    "          font-family:courier;\n",
    "          font-size:2em;'>\n",
    "    Fundamentos parte 1\n",
    "</p>\n",
    "\n",
    "<br>\n",
    "<br>\n",
    "<p style='text-align:left; \n",
    "          font-family:courier;\n",
    "          font-size:1.5em;'>\n",
    "    Probabilidad 1<br>\n",
    "    Por: Jorge Iván Reyes Hernández<br>\n",
    "    Grupo: 9019\n",
    "</p>\n",
    "<br>\n",
    "<br>\n",
    "<br>\n",
    "<br>"
   ]
  },
  {
   "cell_type": "markdown",
   "id": "5d1b43ec",
   "metadata": {},
   "source": [
    "# Hello world!\n",
    "\n",
    "El clásico *Hello world!* se vuelve trivial en Python."
   ]
  },
  {
   "cell_type": "code",
   "execution_count": 5,
   "id": "9e2e4636",
   "metadata": {},
   "outputs": [
    {
     "name": "stdout",
     "output_type": "stream",
     "text": [
      "Hello, world!\n"
     ]
    }
   ],
   "source": [
    "print(\"Hello, world!\")\n"
   ]
  },
  {
   "cell_type": "markdown",
   "id": "3ebf9908",
   "metadata": {},
   "source": [
    "# PEP 8\n",
    "\n",
    "Antes de comenzar a escribir código en Python necesitamos saber cómo hacerlo con *estilo* (es decir, de la manera *correcta*).\n",
    "\n",
    "El [PEP 8](https://peps.python.org/pep-0008/) es la *guía de estilo* para escribir código en Python.\n",
    "Esta guía es una cosa bárbara, así que nos limitaremos solo a algunos aspectos de esta.\n",
    "\n",
    "### Convención de nombres para identificadores de variables\n",
    "\n",
    "Hay que usar letras en minúsculas, que los nombres sean descriptivos, separando cada palabra con guión bajo (snake case).\n",
    "\n",
    "\n",
    "```python\n",
    "# Incorrect\n",
    "myName = \"Iván\"\n",
    "\n",
    "# Correct\n",
    "my_name = \"Iván\"\n",
    "```"
   ]
  },
  {
   "cell_type": "markdown",
   "id": "2cd57015",
   "metadata": {},
   "source": [
    "# Operador de asignación\n",
    "\n",
    "El **operador de asignación** es\n",
    "\n",
    "```python\n",
    "=\n",
    "```\n",
    "\n",
    "Este ya ha sido usado, por ejemplo en la celda anterior tenemos la asignación de la cadena de texto *\"Iván\"* al identificador *my_name*.\n",
    "\n",
    "La asignación siempre se hace de izquierda a derecha.\n",
    "\n",
    "```python\n",
    "# Incorrect\n",
    "\"Iván\" = my_name\n",
    "\n",
    "# Correct\n",
    "my_name = \"Iván\"\n",
    "```\n",
    "\n",
    "Un **identificador** es el \"nombre de la variable\" que estemos definiendo. Nos sirve para identificar a los objetos y acceder a ellos (a.k.a referir a ellos).\n",
    "\n",
    "Un **alias** es otro nombre para un mismo objeto.\n",
    "\n",
    "Ejemplo."
   ]
  },
  {
   "cell_type": "code",
   "execution_count": 4,
   "id": "6c4bdb55",
   "metadata": {},
   "outputs": [
    {
     "name": "stdout",
     "output_type": "stream",
     "text": [
      "Iván\n",
      "Iván\n",
      "Jorge\n",
      "Iván\n"
     ]
    }
   ],
   "source": [
    "my_name = \"Iván\"\n",
    "alias = my_name\n",
    "\n",
    "print(my_name)\n",
    "print(alias)\n",
    "\n",
    "my_name = \"Jorge\"\n",
    "\n",
    "print(my_name)\n",
    "print(alias)"
   ]
  },
  {
   "cell_type": "markdown",
   "id": "c5874ba8",
   "metadata": {},
   "source": [
    "En el ejemplo anterior, teniamos una referencia (con identificador *my_name*) al objeto \"Iván\". Luego, creamos un alias para *my_name* (otra referencia al mismo objeto al que refiere *my_name*).\n",
    "Al imprimir ambos objetos vemos \"Iván\" para ambos.\n",
    "Después creamos otro objeto (\"Jorge\") y le asignamos el mismo identificador (*my_name*). Esto hace que *my_name* deje de referir al objeto \"Iván\", y ahora refiera a \"Jorge\".\n",
    "Luego de volver a imprimir ambos valores, *alias* sigue refiriendo al primer objeto (\"Iván\"), mientras que *my_name* refiere a \"Jorge\"."
   ]
  },
  {
   "cell_type": "markdown",
   "id": "767cff54",
   "metadata": {},
   "source": [
    "# Sentencias y comentarios\n",
    "\n",
    "Una **sentencia** es una línea válida. Por ejemplo\n",
    "\n",
    "```python\n",
    "# Invalid\n",
    "my_name\n",
    "\n",
    "# Valid\n",
    "my_name = \"Iván\"\n",
    "\n",
    "# Valid\n",
    "print(\"hello world\")\n",
    "```\n",
    "\n",
    "En Python, los **comentarios** son líneas ignoradas por el intérprete. Estas comiezan con el símbolo\n",
    "\n",
    "```python\n",
    "# Esto es un comentario\n",
    "```\n",
    "\n",
    "O entre triples comillas dobles, para comentarios más largos\n",
    "\n",
    "```python\n",
    "\"\"\" Comentario\n",
    "\n",
    "Esto es un comentario más largo.\n",
    "\n",
    "#TODO: do_something\n",
    "\"\"\"\n",
    "```"
   ]
  },
  {
   "cell_type": "markdown",
   "id": "b8573952",
   "metadata": {},
   "source": [
    "# Tipos de datos I\n",
    "\n",
    "Python tiene varios tipos de datos built-in:\n",
    "\n",
    "1. Numéricos\n",
    "2. Secuencias\n",
    "3. Mapeos\n",
    "4. Clases\n",
    "5. Instancias\n",
    "6. Excepciones\n",
    "\n",
    "\n",
    "### Tipos de datos numéricos: int, float, complex\n",
    "\n",
    "Los tipos de datos se pueden crear de manera literal o usando el constructor de su clase."
   ]
  },
  {
   "cell_type": "code",
   "execution_count": 10,
   "id": "4bb7c3f6",
   "metadata": {},
   "outputs": [],
   "source": [
    "# Clase int\n",
    "\n",
    "# Forma literal\n",
    "\n",
    "age_1 = 25\n",
    "\n",
    "# Usando el constructor de la clase int\n",
    "\n",
    "age_2 = int(\"25\")\n"
   ]
  },
  {
   "cell_type": "code",
   "execution_count": 11,
   "id": "e09d4f66",
   "metadata": {},
   "outputs": [
    {
     "name": "stdout",
     "output_type": "stream",
     "text": [
      "25\n"
     ]
    }
   ],
   "source": [
    "print(age_1)"
   ]
  },
  {
   "cell_type": "code",
   "execution_count": 12,
   "id": "396458f3",
   "metadata": {},
   "outputs": [
    {
     "name": "stdout",
     "output_type": "stream",
     "text": [
      "25\n"
     ]
    }
   ],
   "source": [
    "print(age_2)"
   ]
  },
  {
   "cell_type": "code",
   "execution_count": 13,
   "id": "c783c95a",
   "metadata": {},
   "outputs": [],
   "source": [
    "# Clase float\n",
    "\n",
    "# Forma literal\n",
    "\n",
    "time_1 = 0.0\n",
    "\n",
    "# Usando el constructor de la clase int\n",
    "\n",
    "time_2 = float(0)\n"
   ]
  },
  {
   "cell_type": "code",
   "execution_count": 14,
   "id": "f84e9853",
   "metadata": {},
   "outputs": [
    {
     "name": "stdout",
     "output_type": "stream",
     "text": [
      "0.0\n"
     ]
    }
   ],
   "source": [
    "print(time_1)"
   ]
  },
  {
   "cell_type": "code",
   "execution_count": 15,
   "id": "c0bdc583",
   "metadata": {},
   "outputs": [
    {
     "name": "stdout",
     "output_type": "stream",
     "text": [
      "0.0\n"
     ]
    }
   ],
   "source": [
    "print(time_2)"
   ]
  },
  {
   "cell_type": "code",
   "execution_count": 34,
   "id": "0e47f5f0",
   "metadata": {},
   "outputs": [],
   "source": [
    "# Clase complex\n",
    "\n",
    "# Forma literal\n",
    "\n",
    "z_1 = 1 + 2j\n",
    "\n",
    "# Usando el constructor de la clase int\n",
    "\n",
    "z_2 = complex(\"1+2j\")\n"
   ]
  },
  {
   "cell_type": "code",
   "execution_count": 35,
   "id": "04dbbf08",
   "metadata": {},
   "outputs": [
    {
     "name": "stdout",
     "output_type": "stream",
     "text": [
      "(1+2j)\n"
     ]
    }
   ],
   "source": [
    "print(z_1)"
   ]
  },
  {
   "cell_type": "code",
   "execution_count": 36,
   "id": "4855e8a0",
   "metadata": {},
   "outputs": [
    {
     "name": "stdout",
     "output_type": "stream",
     "text": [
      "(1+2j)\n"
     ]
    }
   ],
   "source": [
    "print(z_2)"
   ]
  },
  {
   "cell_type": "markdown",
   "id": "1a12c577",
   "metadata": {},
   "source": [
    "#### Métodos de clases\n",
    "\n",
    "Un método es \"algo\" que puede hacer un objeto. Este \"algo\" es el *comportamiento* del objeto, y los métodos suelen cambiar el *estado* de los objetos (aunque no es necesario).\n",
    "\n",
    "Por ejemplo, si tenemos el número complejo $1 + 2 i$ (en Python la unidad imaginaria se denota por j), podemos aplicarle el método *.conjugate()* para obtener el número complejo conjugado $1 - 2 i$."
   ]
  },
  {
   "cell_type": "code",
   "execution_count": 26,
   "id": "216e1f46",
   "metadata": {},
   "outputs": [
    {
     "name": "stdout",
     "output_type": "stream",
     "text": [
      "(1+2j)\n"
     ]
    }
   ],
   "source": [
    "z = complex(\"1+2j\")\n",
    "\n",
    "print(z)"
   ]
  },
  {
   "cell_type": "code",
   "execution_count": 30,
   "id": "28af0f8f",
   "metadata": {},
   "outputs": [
    {
     "name": "stdout",
     "output_type": "stream",
     "text": [
      "(1-2j)\n"
     ]
    }
   ],
   "source": [
    "# En este caso, el método .conjugate() regresa el número complejo conjugado\n",
    "\n",
    "z_ = z.conjugate()\n",
    "print(z_)"
   ]
  },
  {
   "cell_type": "markdown",
   "id": "d1ac390d",
   "metadata": {},
   "source": [
    "##### Ejemplo\n",
    "\n",
    "Encuentre la norma del número 3 + 4i y verifique que es un número real.\n"
   ]
  },
  {
   "cell_type": "code",
   "execution_count": 48,
   "id": "00d25d8c",
   "metadata": {},
   "outputs": [
    {
     "name": "stdout",
     "output_type": "stream",
     "text": [
      "5.0\n"
     ]
    }
   ],
   "source": [
    "# Ejemplo\n",
    "\n",
    "# Encuentre la norma del número 3 + 4i y verifique que es un número real.\n",
    "\n",
    "# Solución\n",
    "\n",
    "# Importamos una libreria para trabajar con números complejos porque necesitamos la raiz cuadrada.\n",
    "import cmath\n",
    "\n",
    "# Definimos el número de forma literal\n",
    "z = 3 + 4j\n",
    "\n",
    "# Se puede demostrar que la norma de un número complejo es la raiz cuadrada del número complejo \n",
    "# multiplicado por su complejo conjugado\n",
    "norm = cmath.sqrt(z * z.conjugate())\n",
    "\n",
    "# La palabra reservada \"assert\" verifica que la condición que aparece a la derecha es cierta.\n",
    "# El operador == es un operador de comparación.\n",
    "assert norm.imag == 0\n",
    "\n",
    "# Imprimimos la norma\n",
    "print(norm.real)"
   ]
  },
  {
   "cell_type": "markdown",
   "id": "ac246df7",
   "metadata": {},
   "source": [
    "### Tipo Secuencia de Texto: str\n",
    "\n",
    "Las cadenas de texto se pueden crear de manera literal (de tres formas distintas) o usando el constructor de su clase.\n"
   ]
  },
  {
   "cell_type": "code",
   "execution_count": 54,
   "id": "73ca3b93",
   "metadata": {},
   "outputs": [],
   "source": [
    "# Forma literal\n",
    "\n",
    "text_1 = \"Las cadenas\"\n",
    "text_2 = ' de texto se pueden \"crear\" de '\n",
    "text_3 = \"\"\"manera literal (de tres formas distintas) o usando el \"constructor\" de su 'clase' \"\"\"\n",
    "\n",
    "# Usando el constructor\n",
    "\n",
    "text_4 = str(1)"
   ]
  },
  {
   "cell_type": "code",
   "execution_count": 55,
   "id": "fc1b99cb",
   "metadata": {},
   "outputs": [
    {
     "name": "stdout",
     "output_type": "stream",
     "text": [
      "Las cadenas\n",
      " de texto se pueden \"crear\" de \n",
      "manera literal (de tres formas distintas) o usando el \"constructor\" de su 'clase' \n",
      "1\n"
     ]
    }
   ],
   "source": [
    "print(text_1)\n",
    "print(text_2)\n",
    "print(text_3)\n",
    "print(text_4)"
   ]
  },
  {
   "cell_type": "markdown",
   "id": "fffd09a1",
   "metadata": {},
   "source": [
    "##### Concatenar cadenas\n",
    "\n",
    "El **operador +** se comporta como un concatenador de cadenas cuando se usa con objetos del tipo str."
   ]
  },
  {
   "cell_type": "code",
   "execution_count": 56,
   "id": "73017160",
   "metadata": {},
   "outputs": [
    {
     "name": "stdout",
     "output_type": "stream",
     "text": [
      "Las cadenas de texto se pueden \"crear\" de manera literal (de tres formas distintas) o usando el \"constructor\" de su 'clase' \n"
     ]
    }
   ],
   "source": [
    "text = text_1 + text_2 + text_3\n",
    "print(text)"
   ]
  },
  {
   "cell_type": "markdown",
   "id": "8b95dac7",
   "metadata": {},
   "source": [
    "##### PEP 8\n",
    "\n",
    "PEP 8 recomienda fuertemente poner espacios entre los identificadores y los operadores (e.g = o +).\n"
   ]
  },
  {
   "cell_type": "code",
   "execution_count": 57,
   "id": "8b490481",
   "metadata": {},
   "outputs": [],
   "source": [
    "# Estilo incorrecto\n",
    "\n",
    "text=text_1+text_2+text_3\n",
    "\n",
    "# Estilo correcto\n",
    "\n",
    "text = text_1 + text_2 + text_3"
   ]
  },
  {
   "cell_type": "markdown",
   "id": "9fdcafd5",
   "metadata": {},
   "source": [
    "### Tipo Secuencia: list tuple, range\n",
    "\n",
    "Estos tipos sirven (entre otras cosas) para almacenar objetos."
   ]
  },
  {
   "cell_type": "code",
   "execution_count": 60,
   "id": "98657a7b",
   "metadata": {},
   "outputs": [
    {
     "name": "stdout",
     "output_type": "stream",
     "text": [
      "[1, 2, 3, 4, 5, 6]\n",
      "['hola', 2, ['otra', 'lista']]\n"
     ]
    }
   ],
   "source": [
    "# Listas (forma literal)\n",
    "\n",
    "my_list = [1, 2, 3, 4, 5, 6]\n",
    "other_list = [\"hola\", 2, [\"otra\", \"lista\"]]\n",
    "\n",
    "print(my_list)\n",
    "print(other_list)"
   ]
  },
  {
   "cell_type": "code",
   "execution_count": 64,
   "id": "b24b9be2",
   "metadata": {},
   "outputs": [
    {
     "name": "stdout",
     "output_type": "stream",
     "text": [
      "['h', 'o', 'l', 'a']\n",
      "['hola', 2, ['otra', 'lista']]\n"
     ]
    }
   ],
   "source": [
    "# Listas (usando el constructor de la clase list)\n",
    "\n",
    "my_list_1 = list(\"hola\")\n",
    "other_list_1 = list([\"hola\", 2, [\"otra\", \"lista\"]])\n",
    "\n",
    "print(my_list_1)\n",
    "print(other_list_1)"
   ]
  },
  {
   "cell_type": "markdown",
   "id": "6d2e95b5",
   "metadata": {},
   "source": [
    "###### Palabras reservadas\n",
    "\n",
    "Las palabras reservadas, como su nombre lo indica, son palabras que *no* se pueden usar como identificadores.\n",
    "\n",
    "Por ejemplo, **no debemos** hacer una lista *llamada* list."
   ]
  },
  {
   "cell_type": "code",
   "execution_count": 78,
   "id": "ea65abdd",
   "metadata": {},
   "outputs": [
    {
     "name": "stdout",
     "output_type": "stream",
     "text": [
      "[1, 2]\n"
     ]
    }
   ],
   "source": [
    "# Le ponemos list a nuestra lista\n",
    "list = [1, 2]\n",
    "\n",
    "# Imprimimos la lista\n",
    "print(list)\n"
   ]
  },
  {
   "cell_type": "code",
   "execution_count": 79,
   "id": "da2930b6",
   "metadata": {},
   "outputs": [
    {
     "ename": "TypeError",
     "evalue": "'list' object is not callable",
     "output_type": "error",
     "traceback": [
      "\u001b[0;31m---------------------------------------------------------------------------\u001b[0m",
      "\u001b[0;31mTypeError\u001b[0m                                 Traceback (most recent call last)",
      "Cell \u001b[0;32mIn[79], line 2\u001b[0m\n\u001b[1;32m      1\u001b[0m \u001b[38;5;66;03m# Ahora queremos hacer otra lista.\u001b[39;00m\n\u001b[0;32m----> 2\u001b[0m \u001b[38;5;28;43mlist\u001b[39;49m\u001b[43m(\u001b[49m\u001b[38;5;124;43m\"\u001b[39;49m\u001b[38;5;124;43mhola\u001b[39;49m\u001b[38;5;124;43m\"\u001b[39;49m\u001b[43m)\u001b[49m\n",
      "\u001b[0;31mTypeError\u001b[0m: 'list' object is not callable"
     ]
    }
   ],
   "source": [
    "# Ahora queremos hacer otra lista.\n",
    "list(\"hola\")"
   ]
  },
  {
   "cell_type": "markdown",
   "id": "654bf891",
   "metadata": {},
   "source": [
    "El problema ocurre porque estamos usando *list* como un identificador, entonces el intérprete ignora que así se llama el constructor de la clase list, y por lo tanto ya no podemos usarlo.\n",
    "\n",
    "Para resolverlo, borramos list."
   ]
  },
  {
   "cell_type": "code",
   "execution_count": 80,
   "id": "c1b2daae",
   "metadata": {},
   "outputs": [],
   "source": [
    "del list"
   ]
  },
  {
   "cell_type": "code",
   "execution_count": 81,
   "id": "e3d3919e",
   "metadata": {},
   "outputs": [
    {
     "name": "stdout",
     "output_type": "stream",
     "text": [
      "(1, 2, 3, 4, 5, 6)\n",
      "('hola', 2, ['otra', 'lista'])\n"
     ]
    }
   ],
   "source": [
    "# Tuplas\n",
    "\n",
    "my_tuple = (1, 2, 3, 4, 5, 6)\n",
    "other_tuple = (\"hola\", 2, [\"otra\", \"lista\"])\n",
    "\n",
    "print(my_tuple)\n",
    "print(other_tuple)"
   ]
  },
  {
   "cell_type": "markdown",
   "id": "23f8154c",
   "metadata": {},
   "source": [
    "###### Diferencias entre listas y tuplas\n",
    "\n",
    "Las listas son objetos *mutables*, lo que significa que una vez creada la lista, se puede modificar (por ejemplo, agregarle un nuevo elemento). En cambio, las tuplas son objetos *inmutables*, lo que significa que una vez creado el objeto, no se puede modificar."
   ]
  },
  {
   "cell_type": "code",
   "execution_count": 98,
   "id": "a6c9808d",
   "metadata": {},
   "outputs": [
    {
     "name": "stdout",
     "output_type": "stream",
     "text": [
      "[]\n"
     ]
    }
   ],
   "source": [
    "# Lista vacía\n",
    "\n",
    "my_list = list()\n",
    "\n",
    "print(my_list)\n"
   ]
  },
  {
   "cell_type": "code",
   "execution_count": 99,
   "id": "da6f931e",
   "metadata": {},
   "outputs": [
    {
     "data": {
      "text/plain": [
       "140012327958720"
      ]
     },
     "execution_count": 99,
     "metadata": {},
     "output_type": "execute_result"
    }
   ],
   "source": [
    "id(my_list)"
   ]
  },
  {
   "cell_type": "code",
   "execution_count": 85,
   "id": "ee19c6aa",
   "metadata": {},
   "outputs": [
    {
     "name": "stdout",
     "output_type": "stream",
     "text": [
      "[1]\n"
     ]
    }
   ],
   "source": [
    "# Agregamos un elemento usando el método .append()\n",
    "\n",
    "my_list.append(1)\n",
    "\n",
    "print(my_list)"
   ]
  },
  {
   "cell_type": "code",
   "execution_count": 100,
   "id": "174d2ee0",
   "metadata": {},
   "outputs": [
    {
     "data": {
      "text/plain": [
       "140012327958720"
      ]
     },
     "execution_count": 100,
     "metadata": {},
     "output_type": "execute_result"
    }
   ],
   "source": [
    "id(my_list)"
   ]
  },
  {
   "cell_type": "code",
   "execution_count": 88,
   "id": "0e89ada6",
   "metadata": {},
   "outputs": [
    {
     "name": "stdout",
     "output_type": "stream",
     "text": [
      "()\n"
     ]
    }
   ],
   "source": [
    "# Tupla vacía\n",
    "\n",
    "my_tuple = tuple()\n",
    "\n",
    "print(my_tuple)\n"
   ]
  },
  {
   "cell_type": "code",
   "execution_count": 95,
   "id": "3fc5ebcc",
   "metadata": {},
   "outputs": [
    {
     "data": {
      "text/plain": [
       "140012823134320"
      ]
     },
     "execution_count": 95,
     "metadata": {},
     "output_type": "execute_result"
    }
   ],
   "source": [
    "# Dirección en memoria\n",
    "\n",
    "id(my_tuple)"
   ]
  },
  {
   "cell_type": "code",
   "execution_count": 97,
   "id": "41634a56",
   "metadata": {},
   "outputs": [
    {
     "data": {
      "text/plain": [
       "140012330278224"
      ]
     },
     "execution_count": 97,
     "metadata": {},
     "output_type": "execute_result"
    }
   ],
   "source": [
    "# Le agregamos un elemento y vemos si es el mismo objeto\n",
    "\n",
    "id(my_tuple + (1,))"
   ]
  },
  {
   "cell_type": "markdown",
   "id": "1e7318c1",
   "metadata": {},
   "source": [
    "Como las direcciones en memoria son distintas, no podemos modificar el objeto al que refiere *my_tuple*, pues al intentar modificarlo, estamos creando otro objeto diferente."
   ]
  },
  {
   "cell_type": "code",
   "execution_count": 104,
   "id": "3d84320d",
   "metadata": {},
   "outputs": [
    {
     "name": "stdout",
     "output_type": "stream",
     "text": [
      "range(1, 10)\n"
     ]
    }
   ],
   "source": [
    "# Range\n",
    "\n",
    "rango = range(1, 10)\n",
    "\n",
    "print(rango)"
   ]
  },
  {
   "cell_type": "markdown",
   "id": "bd2018bd",
   "metadata": {},
   "source": [
    "Aunque esperariamos que *range(1, 10)* nos diera los números del 1 al 9, al momento de imprimir el rango no ocurre lo esperado.\n",
    "\n",
    "Para poder ver esos números tenemos que construir una lista usando ese rango.\n"
   ]
  },
  {
   "cell_type": "code",
   "execution_count": 105,
   "id": "115d0e49",
   "metadata": {},
   "outputs": [
    {
     "name": "stdout",
     "output_type": "stream",
     "text": [
      "[1, 2, 3, 4, 5, 6, 7, 8, 9]\n"
     ]
    }
   ],
   "source": [
    "list_range = list(rango)\n",
    "\n",
    "print(list_range)"
   ]
  },
  {
   "cell_type": "code",
   "execution_count": 106,
   "id": "e84de7a2",
   "metadata": {},
   "outputs": [
    {
     "name": "stdout",
     "output_type": "stream",
     "text": [
      "[1, 3, 5, 7, 9]\n"
     ]
    }
   ],
   "source": [
    "# Range con salto\n",
    "\n",
    "rango = range(1, 10, 2)\n",
    "\n",
    "print(list(rango))"
   ]
  },
  {
   "cell_type": "markdown",
   "id": "d7620f79",
   "metadata": {},
   "source": [
    "El tercer argumento del constructor *range* (que de hecho es opcional) indica el tamaño del salto en el rango de números."
   ]
  },
  {
   "cell_type": "markdown",
   "id": "ee4c25dd",
   "metadata": {},
   "source": [
    "### Valores de verdad (booleanos)\n",
    "\n",
    "En Python el \"verdadero\" es True y el \"falso\" False."
   ]
  },
  {
   "cell_type": "code",
   "execution_count": 107,
   "id": "c7466d48",
   "metadata": {},
   "outputs": [
    {
     "name": "stdout",
     "output_type": "stream",
     "text": [
      "True\n"
     ]
    }
   ],
   "source": [
    "is_greater = 1 < 2\n",
    "print(is_greater)"
   ]
  },
  {
   "cell_type": "code",
   "execution_count": 108,
   "id": "e9a9f19a",
   "metadata": {},
   "outputs": [
    {
     "name": "stdout",
     "output_type": "stream",
     "text": [
      "False\n"
     ]
    }
   ],
   "source": [
    "is_greater = 1 < 0\n",
    "print(is_greater)"
   ]
  },
  {
   "cell_type": "markdown",
   "id": "09c50a5c",
   "metadata": {},
   "source": [
    "###### Operadores de comparación\n",
    "\n",
    "Python tiene distintas formas de comparar valores.\n",
    "\n",
    "1. a < b: Se evalúa a True si b es mayor que a, o False en otro caso.\n",
    "2. a <= b: Se evalúa a True si b es mayor o igual que a, o False en otro caso.\n",
    "3. a > b: Se evalúa a True si a es mayor que b, o False en otro caso.\n",
    "4. a >= b: Se evalúa a True si a es mayor o igual que b, o False en otro caso."
   ]
  },
  {
   "cell_type": "code",
   "execution_count": 110,
   "id": "a490d8b6",
   "metadata": {},
   "outputs": [
    {
     "name": "stdout",
     "output_type": "stream",
     "text": [
      "True\n",
      "True\n",
      "False\n",
      "True\n"
     ]
    }
   ],
   "source": [
    "print(1 < 2)\n",
    "print(1 <= 1)\n",
    "\n",
    "print(1 > 2)\n",
    "print(1 >= 1)"
   ]
  },
  {
   "cell_type": "markdown",
   "id": "7526f27c",
   "metadata": {},
   "source": [
    "# Python es Orientado a Objetos\n",
    "\n",
    "Como Python es un lenguaje de programación que soporta el paradigma de *orientación a objetos*, los objetos juegan un papel central. Las clases (que NO son centrales) sirven como plantillas para crear objetos.\n",
    "\n",
    "Para poder crear un objeto que modele, por ejemplo, un bot, necesitamos primero crear una clase para modelar el comportamiento y estado del bot."
   ]
  },
  {
   "cell_type": "code",
   "execution_count": 120,
   "id": "a8df67bf",
   "metadata": {},
   "outputs": [],
   "source": [
    "class Bot:\n",
    "    def __init__(self, url):\n",
    "        self.url = url"
   ]
  },
  {
   "cell_type": "markdown",
   "id": "55827f93",
   "metadata": {},
   "source": [
    "En las líneas anteriores se creó un clase llamada Bot y se definió el **constructor** de la clase. El constructor nos sirve para construir o instanciar objetos de dicha clase.\n",
    "\n",
    "Como el constructor recibe un parámetro (url), para instanciar un objeto de esa clase, es necesario incluir un argumento en el constructor."
   ]
  },
  {
   "cell_type": "code",
   "execution_count": 124,
   "id": "904110a4",
   "metadata": {},
   "outputs": [
    {
     "ename": "TypeError",
     "evalue": "Bot.__init__() missing 1 required positional argument: 'url'",
     "output_type": "error",
     "traceback": [
      "\u001b[0;31m---------------------------------------------------------------------------\u001b[0m",
      "\u001b[0;31mTypeError\u001b[0m                                 Traceback (most recent call last)",
      "Cell \u001b[0;32mIn[124], line 3\u001b[0m\n\u001b[1;32m      1\u001b[0m \u001b[38;5;66;03m# Intentando instanciar sin argumentos\u001b[39;00m\n\u001b[0;32m----> 3\u001b[0m bot \u001b[38;5;241m=\u001b[39m \u001b[43mBot\u001b[49m\u001b[43m(\u001b[49m\u001b[43m)\u001b[49m\n",
      "\u001b[0;31mTypeError\u001b[0m: Bot.__init__() missing 1 required positional argument: 'url'"
     ]
    }
   ],
   "source": [
    "# Intentando instanciar sin argumentos\n",
    "\n",
    "bot = Bot()"
   ]
  },
  {
   "cell_type": "code",
   "execution_count": 125,
   "id": "19b36400",
   "metadata": {},
   "outputs": [],
   "source": [
    "# Agregando el argumento\n",
    "\n",
    "bot = Bot(\"www.google.com\")"
   ]
  },
  {
   "cell_type": "markdown",
   "id": "6aa415d0",
   "metadata": {},
   "source": [
    "Diremos que el objeto *bot* es una **instancia** de la clase *Bot*"
   ]
  },
  {
   "cell_type": "markdown",
   "id": "66baf4eb",
   "metadata": {},
   "source": [
    "##### PEP 8\n",
    "\n",
    "PEP 8 recomienda usar CapWords para el nombre de las clases.\n",
    "\n",
    "```python\n",
    "# Estilo incorrecto\n",
    "class my_bot():\n",
    "    ...\n",
    "    \n",
    "# Estilo incorrecto\n",
    "class myBot():\n",
    "    ...\n",
    "\n",
    "# Estilo correcto\n",
    "class MyBot():\n",
    "    ...\n",
    "```"
   ]
  },
  {
   "cell_type": "markdown",
   "id": "c2cb53dd",
   "metadata": {},
   "source": [
    "### El comportamiento de los objetos: métodos\n",
    "\n",
    "Es en los métodos donde suelen escribirse los algoritmos que efectuarán los objetos.\n",
    "\n",
    "Por ejemplo, en la clase Bot, podemos hacer que el bot nos diga el dominio del sitio web."
   ]
  },
  {
   "cell_type": "code",
   "execution_count": 130,
   "id": "b194006e",
   "metadata": {},
   "outputs": [],
   "source": [
    "class Bot:\n",
    "    def __init__(self, url):\n",
    "        self.url = url\n",
    "        \n",
    "    def get_domain(self):\n",
    "        domain = self.url[4:-4]\n",
    "        return domain"
   ]
  },
  {
   "cell_type": "code",
   "execution_count": 131,
   "id": "61cd9a8d",
   "metadata": {},
   "outputs": [
    {
     "data": {
      "text/plain": [
       "'google'"
      ]
     },
     "execution_count": 131,
     "metadata": {},
     "output_type": "execute_result"
    }
   ],
   "source": [
    "bot = Bot(\"www.google.com\")\n",
    "bot.get_domain()"
   ]
  },
  {
   "cell_type": "markdown",
   "id": "8f536585",
   "metadata": {},
   "source": [
    "O incluso agrear métodos con algoritmos más complejos."
   ]
  },
  {
   "cell_type": "code",
   "execution_count": 132,
   "id": "e73e2722",
   "metadata": {},
   "outputs": [],
   "source": [
    "class Bot:\n",
    "    def __init__(self, url):\n",
    "        self.url = url\n",
    "        \n",
    "    def get_domain(self):\n",
    "        domain = self.url[4:-4]\n",
    "        return domain\n",
    "    \n",
    "    def sing_in(self):\n",
    "        # Iniciar sesión en el sitio web\n",
    "        pass\n",
    "    "
   ]
  },
  {
   "cell_type": "code",
   "execution_count": 133,
   "id": "dc1a58b4",
   "metadata": {},
   "outputs": [],
   "source": [
    "bot = Bot(\"www.google.com\")\n",
    "bot.sing_in()"
   ]
  },
  {
   "cell_type": "markdown",
   "id": "1d98549d",
   "metadata": {},
   "source": []
  }
 ],
 "metadata": {
  "kernelspec": {
   "display_name": "Python 3 (ipykernel)",
   "language": "python",
   "name": "python3"
  },
  "language_info": {
   "codemirror_mode": {
    "name": "ipython",
    "version": 3
   },
   "file_extension": ".py",
   "mimetype": "text/x-python",
   "name": "python",
   "nbconvert_exporter": "python",
   "pygments_lexer": "ipython3",
   "version": "3.10.6"
  }
 },
 "nbformat": 4,
 "nbformat_minor": 5
}
