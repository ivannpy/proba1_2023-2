{
 "cells": [
  {
   "cell_type": "markdown",
   "id": "0fdf8ba5",
   "metadata": {},
   "source": [
    "<br>\n",
    "<br>\n",
    "<br>\n",
    "<br>\n",
    "<br>\n",
    "<h1 style='text-align: center; \n",
    "          font-family:courier;\n",
    "          font-size:3em;'> \n",
    "    Introducción a la programación en Python\n",
    "</h1>\n",
    "<p style='text-align:center; \n",
    "          font-family:courier;\n",
    "          font-size:2em;'>\n",
    "    Ejercicios\n",
    "</p>\n",
    "\n",
    "<br>\n",
    "<br>\n",
    "<p style='text-align:left; \n",
    "          font-family:courier;\n",
    "          font-size:1.5em;'>\n",
    "    Probabilidad 1<br>\n",
    "    Por: Jorge Iván Reyes Hernández<br>\n",
    "    Grupo: 9019\n",
    "</p>\n",
    "<br>\n",
    "<br>\n",
    "<br>\n",
    "<br>"
   ]
  },
  {
   "cell_type": "markdown",
   "id": "209afab3",
   "metadata": {},
   "source": [
    "###### Ejercicio 1\n",
    "\n",
    "Crea un programa que le pregunte su nombre al usuario. El programa debe responder con un mensaje diciendo \"Hola\" con el nombre del usuario."
   ]
  },
  {
   "cell_type": "code",
   "execution_count": null,
   "id": "d812b12d",
   "metadata": {},
   "outputs": [],
   "source": []
  },
  {
   "cell_type": "markdown",
   "id": "d1f237d1",
   "metadata": {},
   "source": [
    "###### Ejercicio 2\n",
    "\n",
    "Escribe un programa que lea un número entero positivo, $n$, del usuario y muestre la suma de todos los enteros desde 1 hasta $n$."
   ]
  },
  {
   "cell_type": "code",
   "execution_count": null,
   "id": "52639404",
   "metadata": {},
   "outputs": [],
   "source": []
  },
  {
   "cell_type": "markdown",
   "id": "07b44e7f",
   "metadata": {},
   "source": [
    "###### Ejercicio 3\n",
    "\n",
    "Crea un programa que ordene $3$ números (leídos del usuario) usando las funciones \"min()\" y \"max()\" del módulo Math."
   ]
  },
  {
   "cell_type": "code",
   "execution_count": null,
   "id": "96c9658f",
   "metadata": {},
   "outputs": [],
   "source": []
  },
  {
   "cell_type": "markdown",
   "id": "65454f92",
   "metadata": {},
   "source": [
    "###### Ejercicio 4\n",
    "\n",
    "Crea un programa que, dadas las longitudes de los 3 lados de un triángulo (leídas del usuario), lo clasifique en equilatero, isósceles o escaleno."
   ]
  },
  {
   "cell_type": "code",
   "execution_count": null,
   "id": "8e68649e",
   "metadata": {},
   "outputs": [],
   "source": []
  },
  {
   "cell_type": "markdown",
   "id": "3e4f4c0b",
   "metadata": {},
   "source": [
    "###### Ejercicio 5\n",
    "\n",
    "Escribe una clase Triángulo, cuyo constructor reciba tres números y verifique si con esas tres longitudes se puede formar un triángulo. En caso de que no se pueda formar un triángulo, el objeto no debe ser creado y un mensaje adecuado debe ser mostrado."
   ]
  },
  {
   "cell_type": "code",
   "execution_count": null,
   "id": "d5cdd01c",
   "metadata": {},
   "outputs": [],
   "source": []
  },
  {
   "cell_type": "markdown",
   "id": "5f11835a",
   "metadata": {},
   "source": [
    "###### Ejercicio 6\n",
    "\n",
    "Escribe un programa que lea los datos de un archivo .csv y con esos datos grafique un histograma, calcule el promedio, la varianza, el valor máximo y el valor mínimo.\n",
    "\n",
    "El archivo .csv se encuentra el la carpeta de este Notebook y tiene por nombre \"data.csv\"."
   ]
  },
  {
   "cell_type": "code",
   "execution_count": null,
   "id": "4740a489",
   "metadata": {},
   "outputs": [],
   "source": []
  }
 ],
 "metadata": {
  "kernelspec": {
   "display_name": "Python 3 (ipykernel)",
   "language": "python",
   "name": "python3"
  },
  "language_info": {
   "codemirror_mode": {
    "name": "ipython",
    "version": 3
   },
   "file_extension": ".py",
   "mimetype": "text/x-python",
   "name": "python",
   "nbconvert_exporter": "python",
   "pygments_lexer": "ipython3",
   "version": "3.10.6"
  }
 },
 "nbformat": 4,
 "nbformat_minor": 5
}
