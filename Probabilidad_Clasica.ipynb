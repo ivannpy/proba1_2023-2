{
 "cells": [
  {
   "cell_type": "markdown",
   "id": "e81ec957",
   "metadata": {},
   "source": [
    "## Probabilidad clásica\n",
    "\n",
    "#### Probabilidad 1\n",
    "###### Por: Jorge Iván Reyes Hernández"
   ]
  },
  {
   "cell_type": "code",
   "execution_count": 1,
   "id": "ea2c81d6",
   "metadata": {},
   "outputs": [],
   "source": [
    "from abc import ABC, abstractmethod\n",
    "from itertools import product, combinations\n",
    "\n",
    "class Experimento(ABC):\n",
    "    def __init__(self, espacio_muestral: list):\n",
    "        assert len(espacio_muestral) != 0, print(\"El espacio muestral debe tener al menos un elemento\")\n",
    "        self._espacio_muestral: list = espacio_muestral\n",
    "        self.eventos: list = None\n",
    "            \n",
    "    @abstractmethod\n",
    "    def calcula_probabilidad(self, evento):\n",
    "        pass\n",
    "        "
   ]
  },
  {
   "cell_type": "markdown",
   "id": "2b396cc8",
   "metadata": {},
   "source": [
    "1. Se lanza una moneda equilibrada (justa). Calcular la probabilidad de que salga cara.\n"
   ]
  },
  {
   "cell_type": "code",
   "execution_count": 3,
   "id": "921e8e1b",
   "metadata": {},
   "outputs": [],
   "source": [
    "class LanzamientoMoneda(Experimento):\n",
    "    def __init__(self, espacio_muestral):\n",
    "        super().__init__(espacio_muestral)\n",
    "        self.__calcula_posibles_eventos()\n",
    "    \n",
    "    def __calcula_posibles_eventos(self):\n",
    "        listrep = list(self._espacio_muestral)\n",
    "        n = len(listrep)\n",
    "        self.eventos = [[listrep[k] for k in range(n) if i&1<<k] for i in range(2 ** n)]    \n",
    "\n",
    "    def calcula_probabilidad(self, evento):\n",
    "        num = len(evento)\n",
    "        den = len(self._espacio_muestral)\n",
    "        \n",
    "        return num / den"
   ]
  },
  {
   "cell_type": "code",
   "execution_count": 4,
   "id": "86d5d49a",
   "metadata": {},
   "outputs": [],
   "source": [
    "ex = LanzamientoMoneda([0, 1])"
   ]
  },
  {
   "cell_type": "code",
   "execution_count": 5,
   "id": "80b51463",
   "metadata": {},
   "outputs": [
    {
     "data": {
      "text/plain": [
       "[[], [0], [1], [0, 1]]"
      ]
     },
     "execution_count": 5,
     "metadata": {},
     "output_type": "execute_result"
    }
   ],
   "source": [
    "ex.eventos"
   ]
  },
  {
   "cell_type": "code",
   "execution_count": 6,
   "id": "dc5007ff",
   "metadata": {},
   "outputs": [
    {
     "data": {
      "text/plain": [
       "0.5"
      ]
     },
     "execution_count": 6,
     "metadata": {},
     "output_type": "execute_result"
    }
   ],
   "source": [
    "ex.calcula_probabilidad([\"H\"])"
   ]
  },
  {
   "cell_type": "markdown",
   "id": "ee3a0ed4",
   "metadata": {},
   "source": [
    "2. Se lanza 2 veces un dado equilibrado de 6 caras. Calcular la probabilidad de que la suma de las caras sea 2, 7 y 12."
   ]
  },
  {
   "cell_type": "code",
   "execution_count": 7,
   "id": "d883b585",
   "metadata": {},
   "outputs": [],
   "source": [
    "class LanzamientoDado(Experimento):\n",
    "    def __init__(self, espacio_muestral):\n",
    "        super().__init__(espacio_muestral)\n",
    "    \n",
    "    def calcula_probabilidad(self, evento):\n",
    "        try:\n",
    "            suma = int(evento)\n",
    "            succ = 0\n",
    "            for par in self._espacio_muestral:\n",
    "                if sum(par) == suma:\n",
    "                    succ += 1\n",
    "            den = len(self._espacio_muestral)\n",
    "        \n",
    "            return succ / den\n",
    "        except:\n",
    "            print(\"El evento debe ser el valor de la suma de los dados.\")"
   ]
  },
  {
   "cell_type": "code",
   "execution_count": 8,
   "id": "f2f6d0bb",
   "metadata": {},
   "outputs": [
    {
     "data": {
      "text/plain": [
       "[(1, 1),\n",
       " (1, 2),\n",
       " (1, 3),\n",
       " (1, 4),\n",
       " (1, 5),\n",
       " (1, 6),\n",
       " (2, 1),\n",
       " (2, 2),\n",
       " (2, 3),\n",
       " (2, 4),\n",
       " (2, 5),\n",
       " (2, 6),\n",
       " (3, 1),\n",
       " (3, 2),\n",
       " (3, 3),\n",
       " (3, 4),\n",
       " (3, 5),\n",
       " (3, 6),\n",
       " (4, 1),\n",
       " (4, 2),\n",
       " (4, 3),\n",
       " (4, 4),\n",
       " (4, 5),\n",
       " (4, 6),\n",
       " (5, 1),\n",
       " (5, 2),\n",
       " (5, 3),\n",
       " (5, 4),\n",
       " (5, 5),\n",
       " (5, 6),\n",
       " (6, 1),\n",
       " (6, 2),\n",
       " (6, 3),\n",
       " (6, 4),\n",
       " (6, 5),\n",
       " (6, 6)]"
      ]
     },
     "execution_count": 8,
     "metadata": {},
     "output_type": "execute_result"
    }
   ],
   "source": [
    "espacio_muestral_dado = list(product(range(1,7), range(1,7)))\n",
    "espacio_muestral_dado"
   ]
  },
  {
   "cell_type": "code",
   "execution_count": 8,
   "id": "6d35f841",
   "metadata": {},
   "outputs": [],
   "source": [
    "dado = LanzamientoDado(espacio_muestral_dado)"
   ]
  },
  {
   "cell_type": "code",
   "execution_count": 9,
   "id": "c003e978",
   "metadata": {},
   "outputs": [
    {
     "data": {
      "text/plain": [
       "0.027777777777777776"
      ]
     },
     "execution_count": 9,
     "metadata": {},
     "output_type": "execute_result"
    }
   ],
   "source": [
    "dado.calcula_probabilidad(2)\n"
   ]
  },
  {
   "cell_type": "code",
   "execution_count": 10,
   "id": "a429e49f",
   "metadata": {},
   "outputs": [
    {
     "data": {
      "text/plain": [
       "0.16666666666666666"
      ]
     },
     "execution_count": 10,
     "metadata": {},
     "output_type": "execute_result"
    }
   ],
   "source": [
    "dado.calcula_probabilidad(7)"
   ]
  },
  {
   "cell_type": "code",
   "execution_count": 11,
   "id": "d3849531",
   "metadata": {},
   "outputs": [
    {
     "data": {
      "text/plain": [
       "0.027777777777777776"
      ]
     },
     "execution_count": 11,
     "metadata": {},
     "output_type": "execute_result"
    }
   ],
   "source": [
    "dado.calcula_probabilidad(12)"
   ]
  },
  {
   "cell_type": "markdown",
   "id": "75bcd421",
   "metadata": {},
   "source": [
    "### Simulación"
   ]
  },
  {
   "cell_type": "code",
   "execution_count": 19,
   "id": "cd9e48dd",
   "metadata": {},
   "outputs": [],
   "source": [
    "libros_mate = [f\"M{i}\" for i in range(1,7)]\n",
    "libros_ciencias = [f\"C{i}\" for i in range(1,8)]\n",
    "libros_economia = [f\"E{i}\" for i in range(1,5)]\n",
    "libros = libros_mate + libros_ciencias + libros_economia\n"
   ]
  },
  {
   "cell_type": "code",
   "execution_count": 20,
   "id": "f3e3f08a",
   "metadata": {},
   "outputs": [
    {
     "data": {
      "text/plain": [
       "['M1', 'M2', 'M3', 'M4', 'M5', 'M6']"
      ]
     },
     "execution_count": 20,
     "metadata": {},
     "output_type": "execute_result"
    }
   ],
   "source": [
    "libros_mate"
   ]
  },
  {
   "cell_type": "code",
   "execution_count": 21,
   "id": "0644f279",
   "metadata": {},
   "outputs": [
    {
     "data": {
      "text/plain": [
       "['C1', 'C2', 'C3', 'C4', 'C5', 'C6', 'C7']"
      ]
     },
     "execution_count": 21,
     "metadata": {},
     "output_type": "execute_result"
    }
   ],
   "source": [
    "libros_ciencias"
   ]
  },
  {
   "cell_type": "code",
   "execution_count": 22,
   "id": "bb45f9c7",
   "metadata": {},
   "outputs": [
    {
     "data": {
      "text/plain": [
       "['E1', 'E2', 'E3', 'E4']"
      ]
     },
     "execution_count": 22,
     "metadata": {},
     "output_type": "execute_result"
    }
   ],
   "source": [
    "libros_economia"
   ]
  },
  {
   "cell_type": "code",
   "execution_count": 23,
   "id": "a4c801d3",
   "metadata": {},
   "outputs": [
    {
     "name": "stdout",
     "output_type": "stream",
     "text": [
      "136\n"
     ]
    }
   ],
   "source": [
    "a = list(combinations(libros, 2))\n",
    "print(len(a))"
   ]
  },
  {
   "cell_type": "code",
   "execution_count": 24,
   "id": "f2362211",
   "metadata": {},
   "outputs": [
    {
     "name": "stdout",
     "output_type": "stream",
     "text": [
      "('M1', 'M2')\n",
      "('M1', 'M3')\n",
      "('M1', 'M4')\n",
      "('M1', 'M5')\n",
      "('M1', 'M6')\n",
      "('M1', 'C1')\n",
      "('M1', 'C2')\n",
      "('M1', 'C3')\n",
      "('M1', 'C4')\n",
      "('M1', 'C5')\n",
      "('M1', 'C6')\n",
      "('M1', 'C7')\n",
      "('M1', 'E1')\n",
      "('M1', 'E2')\n",
      "('M1', 'E3')\n",
      "('M1', 'E4')\n",
      "('M2', 'M3')\n",
      "('M2', 'M4')\n",
      "('M2', 'M5')\n",
      "('M2', 'M6')\n",
      "('M2', 'C1')\n",
      "('M2', 'C2')\n",
      "('M2', 'C3')\n",
      "('M2', 'C4')\n",
      "('M2', 'C5')\n",
      "('M2', 'C6')\n",
      "('M2', 'C7')\n",
      "('M2', 'E1')\n",
      "('M2', 'E2')\n",
      "('M2', 'E3')\n",
      "('M2', 'E4')\n",
      "('M3', 'M4')\n",
      "('M3', 'M5')\n",
      "('M3', 'M6')\n",
      "('M3', 'C1')\n",
      "('M3', 'C2')\n",
      "('M3', 'C3')\n",
      "('M3', 'C4')\n",
      "('M3', 'C5')\n",
      "('M3', 'C6')\n",
      "('M3', 'C7')\n",
      "('M3', 'E1')\n",
      "('M3', 'E2')\n",
      "('M3', 'E3')\n",
      "('M3', 'E4')\n",
      "('M4', 'M5')\n",
      "('M4', 'M6')\n",
      "('M4', 'C1')\n",
      "('M4', 'C2')\n",
      "('M4', 'C3')\n",
      "('M4', 'C4')\n",
      "('M4', 'C5')\n",
      "('M4', 'C6')\n",
      "('M4', 'C7')\n",
      "('M4', 'E1')\n",
      "('M4', 'E2')\n",
      "('M4', 'E3')\n",
      "('M4', 'E4')\n",
      "('M5', 'M6')\n",
      "('M5', 'C1')\n",
      "('M5', 'C2')\n",
      "('M5', 'C3')\n",
      "('M5', 'C4')\n",
      "('M5', 'C5')\n",
      "('M5', 'C6')\n",
      "('M5', 'C7')\n",
      "('M5', 'E1')\n",
      "('M5', 'E2')\n",
      "('M5', 'E3')\n",
      "('M5', 'E4')\n",
      "('M6', 'C1')\n",
      "('M6', 'C2')\n",
      "('M6', 'C3')\n",
      "('M6', 'C4')\n",
      "('M6', 'C5')\n",
      "('M6', 'C6')\n",
      "('M6', 'C7')\n",
      "('M6', 'E1')\n",
      "('M6', 'E2')\n",
      "('M6', 'E3')\n",
      "('M6', 'E4')\n",
      "('C1', 'C2')\n",
      "('C1', 'C3')\n",
      "('C1', 'C4')\n",
      "('C1', 'C5')\n",
      "('C1', 'C6')\n",
      "('C1', 'C7')\n",
      "('C1', 'E1')\n",
      "('C1', 'E2')\n",
      "('C1', 'E3')\n",
      "('C1', 'E4')\n",
      "('C2', 'C3')\n",
      "('C2', 'C4')\n",
      "('C2', 'C5')\n",
      "('C2', 'C6')\n",
      "('C2', 'C7')\n",
      "('C2', 'E1')\n",
      "('C2', 'E2')\n",
      "('C2', 'E3')\n",
      "('C2', 'E4')\n",
      "('C3', 'C4')\n",
      "('C3', 'C5')\n",
      "('C3', 'C6')\n",
      "('C3', 'C7')\n",
      "('C3', 'E1')\n",
      "('C3', 'E2')\n",
      "('C3', 'E3')\n",
      "('C3', 'E4')\n",
      "('C4', 'C5')\n",
      "('C4', 'C6')\n",
      "('C4', 'C7')\n",
      "('C4', 'E1')\n",
      "('C4', 'E2')\n",
      "('C4', 'E3')\n",
      "('C4', 'E4')\n",
      "('C5', 'C6')\n",
      "('C5', 'C7')\n",
      "('C5', 'E1')\n",
      "('C5', 'E2')\n",
      "('C5', 'E3')\n",
      "('C5', 'E4')\n",
      "('C6', 'C7')\n",
      "('C6', 'E1')\n",
      "('C6', 'E2')\n",
      "('C6', 'E3')\n",
      "('C6', 'E4')\n",
      "('C7', 'E1')\n",
      "('C7', 'E2')\n",
      "('C7', 'E3')\n",
      "('C7', 'E4')\n",
      "('E1', 'E2')\n",
      "('E1', 'E3')\n",
      "('E1', 'E4')\n",
      "('E2', 'E3')\n",
      "('E2', 'E4')\n",
      "('E3', 'E4')\n"
     ]
    }
   ],
   "source": [
    "for i in a:\n",
    "    print(i)"
   ]
  },
  {
   "cell_type": "code",
   "execution_count": 25,
   "id": "22fbb148",
   "metadata": {},
   "outputs": [
    {
     "name": "stdout",
     "output_type": "stream",
     "text": [
      "('M1', 'C1')\n",
      "('M1', 'C2')\n",
      "('M1', 'C3')\n",
      "('M1', 'C4')\n",
      "('M1', 'C5')\n",
      "('M1', 'C6')\n",
      "('M1', 'C7')\n",
      "('M1', 'E1')\n",
      "('M1', 'E2')\n",
      "('M1', 'E3')\n",
      "('M1', 'E4')\n",
      "('M2', 'C1')\n",
      "('M2', 'C2')\n",
      "('M2', 'C3')\n",
      "('M2', 'C4')\n",
      "('M2', 'C5')\n",
      "('M2', 'C6')\n",
      "('M2', 'C7')\n",
      "('M2', 'E1')\n",
      "('M2', 'E2')\n",
      "('M2', 'E3')\n",
      "('M2', 'E4')\n",
      "('M3', 'C1')\n",
      "('M3', 'C2')\n",
      "('M3', 'C3')\n",
      "('M3', 'C4')\n",
      "('M3', 'C5')\n",
      "('M3', 'C6')\n",
      "('M3', 'C7')\n",
      "('M3', 'E1')\n",
      "('M3', 'E2')\n",
      "('M3', 'E3')\n",
      "('M3', 'E4')\n",
      "('M4', 'C1')\n",
      "('M4', 'C2')\n",
      "('M4', 'C3')\n",
      "('M4', 'C4')\n",
      "('M4', 'C5')\n",
      "('M4', 'C6')\n",
      "('M4', 'C7')\n",
      "('M4', 'E1')\n",
      "('M4', 'E2')\n",
      "('M4', 'E3')\n",
      "('M4', 'E4')\n",
      "('M5', 'C1')\n",
      "('M5', 'C2')\n",
      "('M5', 'C3')\n",
      "('M5', 'C4')\n",
      "('M5', 'C5')\n",
      "('M5', 'C6')\n",
      "('M5', 'C7')\n",
      "('M5', 'E1')\n",
      "('M5', 'E2')\n",
      "('M5', 'E3')\n",
      "('M5', 'E4')\n",
      "('M6', 'C1')\n",
      "('M6', 'C2')\n",
      "('M6', 'C3')\n",
      "('M6', 'C4')\n",
      "('M6', 'C5')\n",
      "('M6', 'C6')\n",
      "('M6', 'C7')\n",
      "('M6', 'E1')\n",
      "('M6', 'E2')\n",
      "('M6', 'E3')\n",
      "('M6', 'E4')\n",
      "('C1', 'E1')\n",
      "('C1', 'E2')\n",
      "('C1', 'E3')\n",
      "('C1', 'E4')\n",
      "('C2', 'E1')\n",
      "('C2', 'E2')\n",
      "('C2', 'E3')\n",
      "('C2', 'E4')\n",
      "('C3', 'E1')\n",
      "('C3', 'E2')\n",
      "('C3', 'E3')\n",
      "('C3', 'E4')\n",
      "('C4', 'E1')\n",
      "('C4', 'E2')\n",
      "('C4', 'E3')\n",
      "('C4', 'E4')\n",
      "('C5', 'E1')\n",
      "('C5', 'E2')\n",
      "('C5', 'E3')\n",
      "('C5', 'E4')\n",
      "('C6', 'E1')\n",
      "('C6', 'E2')\n",
      "('C6', 'E3')\n",
      "('C6', 'E4')\n",
      "('C7', 'E1')\n",
      "('C7', 'E2')\n",
      "('C7', 'E3')\n",
      "('C7', 'E4')\n",
      "94\n"
     ]
    }
   ],
   "source": [
    "dif = 0\n",
    "\n",
    "for pair in a:\n",
    "    materia1 = pair[0][0]\n",
    "    materia2 = pair[1][0]\n",
    "    if materia1 != materia2:\n",
    "        dif += 1\n",
    "        print(pair)\n",
    "print(dif)"
   ]
  },
  {
   "cell_type": "code",
   "execution_count": null,
   "id": "4f1de91d",
   "metadata": {},
   "outputs": [],
   "source": []
  },
  {
   "cell_type": "code",
   "execution_count": null,
   "id": "5042c729",
   "metadata": {},
   "outputs": [],
   "source": []
  }
 ],
 "metadata": {
  "kernelspec": {
   "display_name": "Python 3 (ipykernel)",
   "language": "python",
   "name": "python3"
  },
  "language_info": {
   "codemirror_mode": {
    "name": "ipython",
    "version": 3
   },
   "file_extension": ".py",
   "mimetype": "text/x-python",
   "name": "python",
   "nbconvert_exporter": "python",
   "pygments_lexer": "ipython3",
   "version": "3.10.6"
  }
 },
 "nbformat": 4,
 "nbformat_minor": 5
}
