{
 "cells": [
  {
   "cell_type": "markdown",
   "id": "e81ec957",
   "metadata": {},
   "source": [
    "## Probabilidad clásica\n",
    "\n",
    "#### Probabilidad 1\n",
    "###### Por: Jorge Iván Reyes Hernández"
   ]
  },
  {
   "cell_type": "code",
   "execution_count": 1,
   "id": "ea2c81d6",
   "metadata": {},
   "outputs": [],
   "source": [
    "from abc import ABC, abstractmethod\n",
    "from itertools import product\n",
    "\n",
    "\n",
    "class Experimento(ABC):\n",
    "    def __init__(self, espacio_muestral: list):\n",
    "        assert len(espacio_muestral) != 0, print(\"El espacio muestral debe tener al menos un elemento\")\n",
    "        self._espacio_muestral: list = espacio_muestral\n",
    "        self.eventos: list = None\n",
    "            \n",
    "    @abstractmethod\n",
    "    def calcula_probabilidad(self, evento):\n",
    "        pass\n",
    "        "
   ]
  },
  {
   "cell_type": "markdown",
   "id": "2b396cc8",
   "metadata": {},
   "source": [
    "1. Se lanza una moneda equilibrada (justa). Calcular la probabilidad de que salga cara.\n"
   ]
  },
  {
   "cell_type": "code",
   "execution_count": 2,
   "id": "921e8e1b",
   "metadata": {},
   "outputs": [],
   "source": [
    "class LanzamientoMoneda(Experimento):\n",
    "    def __init__(self, espacio_muestral):\n",
    "        super().__init__(espacio_muestral)\n",
    "        self.__calcula_posibles_eventos()\n",
    "    \n",
    "    def __calcula_posibles_eventos(self):\n",
    "        listrep = list(self._espacio_muestral)\n",
    "        n = len(listrep)\n",
    "        self.eventos = [[listrep[k] for k in range(n) if i&1<<k] for i in range(2 ** n)]    \n",
    "\n",
    "    def calcula_probabilidad(self, evento):\n",
    "        num = len(evento)\n",
    "        den = len(self._espacio_muestral)\n",
    "        \n",
    "        return num / den"
   ]
  },
  {
   "cell_type": "code",
   "execution_count": 3,
   "id": "86d5d49a",
   "metadata": {},
   "outputs": [],
   "source": [
    "ex = LanzamientoMoneda([0, 1])"
   ]
  },
  {
   "cell_type": "code",
   "execution_count": 4,
   "id": "80b51463",
   "metadata": {},
   "outputs": [
    {
     "data": {
      "text/plain": [
       "[[], [0], [1], [0, 1]]"
      ]
     },
     "execution_count": 4,
     "metadata": {},
     "output_type": "execute_result"
    }
   ],
   "source": [
    "ex.eventos"
   ]
  },
  {
   "cell_type": "code",
   "execution_count": 5,
   "id": "dc5007ff",
   "metadata": {},
   "outputs": [
    {
     "data": {
      "text/plain": [
       "0.5"
      ]
     },
     "execution_count": 5,
     "metadata": {},
     "output_type": "execute_result"
    }
   ],
   "source": [
    "ex.calcula_probabilidad([\"H\"])"
   ]
  },
  {
   "cell_type": "markdown",
   "id": "ee3a0ed4",
   "metadata": {},
   "source": [
    "2. Se lanza 2 veces un dado equilibrado de 6 caras. Calcular la probabilidad de que la suma de las caras sea 2, 7 y 12."
   ]
  },
  {
   "cell_type": "code",
   "execution_count": 16,
   "id": "d883b585",
   "metadata": {},
   "outputs": [],
   "source": [
    "class LanzamientoDado(Experimento):\n",
    "    def __init__(self, espacio_muestral):\n",
    "        super().__init__(espacio_muestral)\n",
    "    \n",
    "    def calcula_probabilidad(self, evento):\n",
    "        try:\n",
    "            suma = int(evento)\n",
    "            succ = 0\n",
    "            for par in self._espacio_muestral:\n",
    "                if sum(par) == suma:\n",
    "                    succ += 1\n",
    "            den = len(self._espacio_muestral)\n",
    "        \n",
    "            return succ / den\n",
    "        except:\n",
    "            print(\"El evento debe ser el valor de la suma de los dados.\")"
   ]
  },
  {
   "cell_type": "code",
   "execution_count": 17,
   "id": "f2f6d0bb",
   "metadata": {},
   "outputs": [
    {
     "data": {
      "text/plain": [
       "[(1, 1),\n",
       " (1, 2),\n",
       " (1, 3),\n",
       " (1, 4),\n",
       " (1, 5),\n",
       " (1, 6),\n",
       " (2, 1),\n",
       " (2, 2),\n",
       " (2, 3),\n",
       " (2, 4),\n",
       " (2, 5),\n",
       " (2, 6),\n",
       " (3, 1),\n",
       " (3, 2),\n",
       " (3, 3),\n",
       " (3, 4),\n",
       " (3, 5),\n",
       " (3, 6),\n",
       " (4, 1),\n",
       " (4, 2),\n",
       " (4, 3),\n",
       " (4, 4),\n",
       " (4, 5),\n",
       " (4, 6),\n",
       " (5, 1),\n",
       " (5, 2),\n",
       " (5, 3),\n",
       " (5, 4),\n",
       " (5, 5),\n",
       " (5, 6),\n",
       " (6, 1),\n",
       " (6, 2),\n",
       " (6, 3),\n",
       " (6, 4),\n",
       " (6, 5),\n",
       " (6, 6)]"
      ]
     },
     "execution_count": 17,
     "metadata": {},
     "output_type": "execute_result"
    }
   ],
   "source": [
    "espacio_muestral_dado = list(product(range(1,7), range(1,7)))\n",
    "espacio_muestral_dado"
   ]
  },
  {
   "cell_type": "code",
   "execution_count": 18,
   "id": "6d35f841",
   "metadata": {},
   "outputs": [],
   "source": [
    "dado = LanzamientoDado(espacio_muestral_dado)"
   ]
  },
  {
   "cell_type": "code",
   "execution_count": 26,
   "id": "c003e978",
   "metadata": {},
   "outputs": [
    {
     "data": {
      "text/plain": [
       "0.027777777777777776"
      ]
     },
     "execution_count": 26,
     "metadata": {},
     "output_type": "execute_result"
    }
   ],
   "source": [
    "dado.calcula_probabilidad(2)\n"
   ]
  },
  {
   "cell_type": "code",
   "execution_count": 27,
   "id": "a429e49f",
   "metadata": {},
   "outputs": [
    {
     "data": {
      "text/plain": [
       "0.16666666666666666"
      ]
     },
     "execution_count": 27,
     "metadata": {},
     "output_type": "execute_result"
    }
   ],
   "source": [
    "dado.calcula_probabilidad(7)"
   ]
  },
  {
   "cell_type": "code",
   "execution_count": 28,
   "id": "d3849531",
   "metadata": {},
   "outputs": [
    {
     "data": {
      "text/plain": [
       "0.027777777777777776"
      ]
     },
     "execution_count": 28,
     "metadata": {},
     "output_type": "execute_result"
    }
   ],
   "source": [
    "dado.calcula_probabilidad(12)"
   ]
  },
  {
   "cell_type": "code",
   "execution_count": null,
   "id": "adf7cad8",
   "metadata": {},
   "outputs": [],
   "source": []
  }
 ],
 "metadata": {
  "kernelspec": {
   "display_name": "Python 3 (ipykernel)",
   "language": "python",
   "name": "python3"
  },
  "language_info": {
   "codemirror_mode": {
    "name": "ipython",
    "version": 3
   },
   "file_extension": ".py",
   "mimetype": "text/x-python",
   "name": "python",
   "nbconvert_exporter": "python",
   "pygments_lexer": "ipython3",
   "version": "3.10.6"
  }
 },
 "nbformat": 4,
 "nbformat_minor": 5
}
