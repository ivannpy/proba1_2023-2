{
 "cells": [
  {
   "cell_type": "markdown",
   "id": "e7d6a300",
   "metadata": {},
   "source": [
    "# Ejemplo: Interpretación frecuentista\n",
    "\n",
    "##### Experimento.\n",
    "Lanzar un dado de $6$ caras $n$ veces.\n",
    "\n",
    "##### Espacio muestral\n",
    "Los posibles resultados de los 6 lanzamientos son $\\{1,\\ldots,6\\}^{n}$\n",
    "\n",
    "\n",
    "Si $X_i$ denota el resultado del dado en el $i$-ésimo lanzamiento, los posibles valores que $X_i$ puede tomar (su soporte) son: \n",
    "$$\n",
    "    sop(X_i)=\\{1, 2, 3, 4, 5, 6\\}\n",
    "$$"
   ]
  },
  {
   "cell_type": "code",
   "execution_count": 1,
   "id": "a61a2c66",
   "metadata": {},
   "outputs": [],
   "source": [
    "sop_x = list(range(1, 7))"
   ]
  },
  {
   "cell_type": "code",
   "execution_count": 2,
   "id": "54c7b6f1",
   "metadata": {},
   "outputs": [
    {
     "data": {
      "text/plain": [
       "[1, 2, 3, 4, 5, 6]"
      ]
     },
     "execution_count": 2,
     "metadata": {},
     "output_type": "execute_result"
    }
   ],
   "source": [
    "sop_x"
   ]
  },
  {
   "cell_type": "markdown",
   "id": "3a134962",
   "metadata": {},
   "source": [
    "Queremos poder seleccionar/muestrear valores del soporte para simular los resultados del dado."
   ]
  },
  {
   "cell_type": "code",
   "execution_count": 3,
   "id": "f934a36a",
   "metadata": {},
   "outputs": [],
   "source": [
    "from random import choices"
   ]
  },
  {
   "cell_type": "code",
   "execution_count": 4,
   "id": "42d93d2a",
   "metadata": {},
   "outputs": [
    {
     "data": {
      "text/plain": [
       "[2, 1, 4, 1, 2, 1, 1, 5, 5, 3]"
      ]
     },
     "execution_count": 4,
     "metadata": {},
     "output_type": "execute_result"
    }
   ],
   "source": [
    "sample = choices(sop_x, k=10)\n",
    "sample"
   ]
  },
  {
   "cell_type": "markdown",
   "id": "3ce50e0a",
   "metadata": {},
   "source": [
    "La afirmación de que al lanzar un dado de 6 caras, cada cara tiene la misma probabilidad de salir (a saber, $\\frac{1}{6}$) solo está justificada \"a largo plazo\". Es decir, es un resultado frecuentista.\n",
    "\n",
    "Como es \"a largo plazo\", tendríamos que lanzar el dado suficientes veces ($n\\to\\infty$) para que cada cara salga la misma cantidad de veces.\n"
   ]
  },
  {
   "cell_type": "code",
   "execution_count": 5,
   "id": "6f32fbcb",
   "metadata": {},
   "outputs": [],
   "source": [
    "from collections import Counter\n",
    "\n",
    "\n",
    "def experiment(n, sop_x):\n",
    "    sample = choices(sop_x, k=n)\n",
    "    counter = Counter(sample)\n",
    "    print(f\"Total de veces que se lanzó el dado {n}\\n\")\n",
    "    for i in sop_x:\n",
    "        print(f\"Veces que sale el número {i}: {counter[i]}\")\n",
    "        print(f\"Frecuencia relativa observada: {counter[i]/n:.3f}\")\n",
    "        print(f\"Frecuencia relativa esperada: {1/6:.3f}\\n\")\n",
    "    print(\"-\"*50)\n",
    "    "
   ]
  },
  {
   "cell_type": "code",
   "execution_count": 6,
   "id": "222b9e3b",
   "metadata": {},
   "outputs": [
    {
     "name": "stdout",
     "output_type": "stream",
     "text": [
      "Total de veces que se lanzó el dado 10\n",
      "\n",
      "Veces que sale el número 1: 2\n",
      "Frecuencia relativa observada: 0.200\n",
      "Frecuencia relativa esperada: 0.167\n",
      "\n",
      "Veces que sale el número 2: 1\n",
      "Frecuencia relativa observada: 0.100\n",
      "Frecuencia relativa esperada: 0.167\n",
      "\n",
      "Veces que sale el número 3: 0\n",
      "Frecuencia relativa observada: 0.000\n",
      "Frecuencia relativa esperada: 0.167\n",
      "\n",
      "Veces que sale el número 4: 2\n",
      "Frecuencia relativa observada: 0.200\n",
      "Frecuencia relativa esperada: 0.167\n",
      "\n",
      "Veces que sale el número 5: 3\n",
      "Frecuencia relativa observada: 0.300\n",
      "Frecuencia relativa esperada: 0.167\n",
      "\n",
      "Veces que sale el número 6: 2\n",
      "Frecuencia relativa observada: 0.200\n",
      "Frecuencia relativa esperada: 0.167\n",
      "\n",
      "--------------------------------------------------\n"
     ]
    }
   ],
   "source": [
    "experiment(10, sop_x)"
   ]
  },
  {
   "cell_type": "code",
   "execution_count": 7,
   "id": "deca0d52",
   "metadata": {},
   "outputs": [
    {
     "name": "stdout",
     "output_type": "stream",
     "text": [
      "Total de veces que se lanzó el dado 10000\n",
      "\n",
      "Veces que sale el número 1: 1688\n",
      "Frecuencia relativa observada: 0.169\n",
      "Frecuencia relativa esperada: 0.167\n",
      "\n",
      "Veces que sale el número 2: 1603\n",
      "Frecuencia relativa observada: 0.160\n",
      "Frecuencia relativa esperada: 0.167\n",
      "\n",
      "Veces que sale el número 3: 1700\n",
      "Frecuencia relativa observada: 0.170\n",
      "Frecuencia relativa esperada: 0.167\n",
      "\n",
      "Veces que sale el número 4: 1638\n",
      "Frecuencia relativa observada: 0.164\n",
      "Frecuencia relativa esperada: 0.167\n",
      "\n",
      "Veces que sale el número 5: 1641\n",
      "Frecuencia relativa observada: 0.164\n",
      "Frecuencia relativa esperada: 0.167\n",
      "\n",
      "Veces que sale el número 6: 1730\n",
      "Frecuencia relativa observada: 0.173\n",
      "Frecuencia relativa esperada: 0.167\n",
      "\n",
      "--------------------------------------------------\n",
      "Total de veces que se lanzó el dado 100000\n",
      "\n",
      "Veces que sale el número 1: 16715\n",
      "Frecuencia relativa observada: 0.167\n",
      "Frecuencia relativa esperada: 0.167\n",
      "\n",
      "Veces que sale el número 2: 16849\n",
      "Frecuencia relativa observada: 0.168\n",
      "Frecuencia relativa esperada: 0.167\n",
      "\n",
      "Veces que sale el número 3: 16599\n",
      "Frecuencia relativa observada: 0.166\n",
      "Frecuencia relativa esperada: 0.167\n",
      "\n",
      "Veces que sale el número 4: 16509\n",
      "Frecuencia relativa observada: 0.165\n",
      "Frecuencia relativa esperada: 0.167\n",
      "\n",
      "Veces que sale el número 5: 16709\n",
      "Frecuencia relativa observada: 0.167\n",
      "Frecuencia relativa esperada: 0.167\n",
      "\n",
      "Veces que sale el número 6: 16619\n",
      "Frecuencia relativa observada: 0.166\n",
      "Frecuencia relativa esperada: 0.167\n",
      "\n",
      "--------------------------------------------------\n",
      "Total de veces que se lanzó el dado 1000000\n",
      "\n",
      "Veces que sale el número 1: 166610\n",
      "Frecuencia relativa observada: 0.167\n",
      "Frecuencia relativa esperada: 0.167\n",
      "\n",
      "Veces que sale el número 2: 167139\n",
      "Frecuencia relativa observada: 0.167\n",
      "Frecuencia relativa esperada: 0.167\n",
      "\n",
      "Veces que sale el número 3: 166556\n",
      "Frecuencia relativa observada: 0.167\n",
      "Frecuencia relativa esperada: 0.167\n",
      "\n",
      "Veces que sale el número 4: 167004\n",
      "Frecuencia relativa observada: 0.167\n",
      "Frecuencia relativa esperada: 0.167\n",
      "\n",
      "Veces que sale el número 5: 166333\n",
      "Frecuencia relativa observada: 0.166\n",
      "Frecuencia relativa esperada: 0.167\n",
      "\n",
      "Veces que sale el número 6: 166358\n",
      "Frecuencia relativa observada: 0.166\n",
      "Frecuencia relativa esperada: 0.167\n",
      "\n",
      "--------------------------------------------------\n"
     ]
    }
   ],
   "source": [
    "for n in [10**i for i in range(4, 7)]:\n",
    "    experiment(n, sop_x)"
   ]
  }
 ],
 "metadata": {
  "kernelspec": {
   "display_name": "Python 3 (ipykernel)",
   "language": "python",
   "name": "python3"
  },
  "language_info": {
   "codemirror_mode": {
    "name": "ipython",
    "version": 3
   },
   "file_extension": ".py",
   "mimetype": "text/x-python",
   "name": "python",
   "nbconvert_exporter": "python",
   "pygments_lexer": "ipython3",
   "version": "3.10.6"
  }
 },
 "nbformat": 4,
 "nbformat_minor": 5
}
